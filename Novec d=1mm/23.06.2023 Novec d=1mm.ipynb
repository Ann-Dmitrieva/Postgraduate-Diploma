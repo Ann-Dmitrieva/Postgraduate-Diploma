{
 "cells": [
  {
   "cell_type": "code",
   "execution_count": 42,
   "id": "ce61d23c",
   "metadata": {},
   "outputs": [],
   "source": [
    "import math\n",
    "import matplotlib.pyplot as plt\n",
    "import numpy as np\n",
    "%matplotlib inline\n",
    "import pandas as pd\n",
    "from scipy.optimize import curve_fit\n",
    "from sklearn.metrics import r2_score\n",
    "import seaborn as sns"
   ]
  },
  {
   "cell_type": "markdown",
   "id": "99c54147",
   "metadata": {},
   "source": [
    "Теплофизические свойства "
   ]
  },
  {
   "cell_type": "code",
   "execution_count": 4,
   "id": "89afd603",
   "metadata": {},
   "outputs": [
    {
     "data": {
      "text/plain": [
       "0.000986415636631821"
      ]
     },
     "execution_count": 4,
     "metadata": {},
     "output_type": "execute_result"
    }
   ],
   "source": [
    "T = 58.4 #Температура Новека при сборе статистических данных\n",
    "Cp = 2 * T + 1133 #Дж/кг*К - вода\n",
    "r = 125000 #Дж/кг\n",
    "ρ_w = -2.692 * T + 1582 #кг/м3- novec\n",
    "ρ_v = 0.0034 * (T ** 2) - 0.103 * T + 2.333 #кг/м3 - пар\n",
    "η = 0.0003 # Н*c/м2 - динамическая \n",
    "λ = 0.06\n",
    "g = 9.81\n",
    "ν = η / ρ_w #м2/с - кинематическая\n",
    "σ = 0.0136 #Н/м - поверхностное натяжение\n",
    "a_t = λ / (Cp * ρ_w)\n",
    "ΔT = 5.38\n",
    "math.sqrt(σ / (g * ρ_w))"
   ]
  },
  {
   "cell_type": "code",
   "execution_count": 5,
   "id": "19f31f68",
   "metadata": {},
   "outputs": [
    {
     "data": {
      "text/plain": [
       "1.1309374101422003e-05"
      ]
     },
     "execution_count": 5,
     "metadata": {},
     "output_type": "execute_result"
    }
   ],
   "source": [
    "Ja = (Cp * ΔT * ρ_w) / (r * ρ_v)\n",
    "Ja0 = (Cp * ρ_w) / (r * ρ_v)\n",
    "Pr = (η * Cp) / λ\n",
    "Ar = (g / (ν ** 2)) * ((σ / (g * ρ_w)) ** (3 / 2))\n",
    "K = ((Ja / Pr) ** 2) / Ar\n",
    "K"
   ]
  },
  {
   "cell_type": "code",
   "execution_count": 6,
   "id": "f530ad20",
   "metadata": {},
   "outputs": [],
   "source": [
    "d0 = 0.148 * math.sqrt(1 + 100000 * K) * math.sqrt(σ / (g * ρ_w))\n",
    "d0_b = 0.148 * math.sqrt(1 + 100000 * K)"
   ]
  },
  {
   "cell_type": "markdown",
   "id": "e3518b4b",
   "metadata": {},
   "source": [
    "Обработка экспериментальных данных"
   ]
  },
  {
   "cell_type": "code",
   "execution_count": 16,
   "id": "83c15569",
   "metadata": {
    "scrolled": true
   },
   "outputs": [
    {
     "data": {
      "text/html": [
       "<div>\n",
       "<style scoped>\n",
       "    .dataframe tbody tr th:only-of-type {\n",
       "        vertical-align: middle;\n",
       "    }\n",
       "\n",
       "    .dataframe tbody tr th {\n",
       "        vertical-align: top;\n",
       "    }\n",
       "\n",
       "    .dataframe thead th {\n",
       "        text-align: right;\n",
       "    }\n",
       "</style>\n",
       "<table border=\"1\" class=\"dataframe\">\n",
       "  <thead>\n",
       "    <tr style=\"text-align: right;\">\n",
       "      <th></th>\n",
       "      <th>Замер</th>\n",
       "      <th>Напряжение, В</th>\n",
       "      <th>Сила тока, А</th>\n",
       "      <th>Температура, °С</th>\n",
       "      <th>Мощность, Вт</th>\n",
       "      <th>Плотность ТП, Вт/м2</th>\n",
       "    </tr>\n",
       "  </thead>\n",
       "  <tbody>\n",
       "    <tr>\n",
       "      <th>0</th>\n",
       "      <td>regstat1</td>\n",
       "      <td>2,13</td>\n",
       "      <td>4,7</td>\n",
       "      <td>NaN</td>\n",
       "      <td>10,011</td>\n",
       "      <td>10627,38854</td>\n",
       "    </tr>\n",
       "    <tr>\n",
       "      <th>1</th>\n",
       "      <td>regstat2</td>\n",
       "      <td>1,9</td>\n",
       "      <td>4,2</td>\n",
       "      <td>NaN</td>\n",
       "      <td>7,98</td>\n",
       "      <td>8471,33758</td>\n",
       "    </tr>\n",
       "    <tr>\n",
       "      <th>2</th>\n",
       "      <td>regstat3</td>\n",
       "      <td>1,68</td>\n",
       "      <td>3,7</td>\n",
       "      <td>NaN</td>\n",
       "      <td>6,216</td>\n",
       "      <td>6598,726115</td>\n",
       "    </tr>\n",
       "    <tr>\n",
       "      <th>3</th>\n",
       "      <td>regstat4</td>\n",
       "      <td>1,5</td>\n",
       "      <td>3,2</td>\n",
       "      <td>NaN</td>\n",
       "      <td>4,8</td>\n",
       "      <td>5095,541401</td>\n",
       "    </tr>\n",
       "    <tr>\n",
       "      <th>4</th>\n",
       "      <td>regstat5</td>\n",
       "      <td>1,33</td>\n",
       "      <td>2,9</td>\n",
       "      <td>NaN</td>\n",
       "      <td>3,857</td>\n",
       "      <td>4094,47983</td>\n",
       "    </tr>\n",
       "    <tr>\n",
       "      <th>5</th>\n",
       "      <td>regstat6</td>\n",
       "      <td>1,11</td>\n",
       "      <td>2,4</td>\n",
       "      <td>NaN</td>\n",
       "      <td>2,664</td>\n",
       "      <td>2828,025478</td>\n",
       "    </tr>\n",
       "    <tr>\n",
       "      <th>6</th>\n",
       "      <td>regstat7</td>\n",
       "      <td>1,025</td>\n",
       "      <td>2,15</td>\n",
       "      <td>NaN</td>\n",
       "      <td>2,20375</td>\n",
       "      <td>2339,437367</td>\n",
       "    </tr>\n",
       "    <tr>\n",
       "      <th>7</th>\n",
       "      <td>regstat8</td>\n",
       "      <td>0,9</td>\n",
       "      <td>2,05</td>\n",
       "      <td>NaN</td>\n",
       "      <td>1,845</td>\n",
       "      <td>1958,598726</td>\n",
       "    </tr>\n",
       "    <tr>\n",
       "      <th>8</th>\n",
       "      <td>regstat9</td>\n",
       "      <td>2,52</td>\n",
       "      <td>5,85</td>\n",
       "      <td>NaN</td>\n",
       "      <td>14,742</td>\n",
       "      <td>15649,68153</td>\n",
       "    </tr>\n",
       "    <tr>\n",
       "      <th>9</th>\n",
       "      <td>regstat10</td>\n",
       "      <td>3,02</td>\n",
       "      <td>6,7</td>\n",
       "      <td>NaN</td>\n",
       "      <td>20,234</td>\n",
       "      <td>21479,83015</td>\n",
       "    </tr>\n",
       "    <tr>\n",
       "      <th>10</th>\n",
       "      <td>regstat11</td>\n",
       "      <td>3,5</td>\n",
       "      <td>7,8</td>\n",
       "      <td>NaN</td>\n",
       "      <td>27,3</td>\n",
       "      <td>28980,89172</td>\n",
       "    </tr>\n",
       "    <tr>\n",
       "      <th>11</th>\n",
       "      <td>regstat12</td>\n",
       "      <td>4</td>\n",
       "      <td>8,95</td>\n",
       "      <td>NaN</td>\n",
       "      <td>35,8</td>\n",
       "      <td>38004,24628</td>\n",
       "    </tr>\n",
       "    <tr>\n",
       "      <th>12</th>\n",
       "      <td>regstat13</td>\n",
       "      <td>4,52</td>\n",
       "      <td>10,2</td>\n",
       "      <td>NaN</td>\n",
       "      <td>46,104</td>\n",
       "      <td>48942,67516</td>\n",
       "    </tr>\n",
       "  </tbody>\n",
       "</table>\n",
       "</div>"
      ],
      "text/plain": [
       "        Замер Напряжение, В Сила тока, А  Температура, °С Мощность, Вт  \\\n",
       "0    regstat1          2,13          4,7              NaN       10,011   \n",
       "1    regstat2           1,9          4,2              NaN         7,98   \n",
       "2    regstat3          1,68          3,7              NaN        6,216   \n",
       "3    regstat4           1,5          3,2              NaN          4,8   \n",
       "4    regstat5          1,33          2,9              NaN        3,857   \n",
       "5    regstat6          1,11          2,4              NaN        2,664   \n",
       "6    regstat7         1,025         2,15              NaN      2,20375   \n",
       "7    regstat8           0,9         2,05              NaN        1,845   \n",
       "8    regstat9          2,52         5,85              NaN       14,742   \n",
       "9   regstat10          3,02          6,7              NaN       20,234   \n",
       "10  regstat11           3,5          7,8              NaN         27,3   \n",
       "11  regstat12             4         8,95              NaN         35,8   \n",
       "12  regstat13          4,52         10,2              NaN       46,104   \n",
       "\n",
       "   Плотность ТП, Вт/м2  \n",
       "0          10627,38854  \n",
       "1           8471,33758  \n",
       "2          6598,726115  \n",
       "3          5095,541401  \n",
       "4           4094,47983  \n",
       "5          2828,025478  \n",
       "6          2339,437367  \n",
       "7          1958,598726  \n",
       "8          15649,68153  \n",
       "9          21479,83015  \n",
       "10         28980,89172  \n",
       "11         38004,24628  \n",
       "12         48942,67516  "
      ]
     },
     "execution_count": 16,
     "metadata": {},
     "output_type": "execute_result"
    }
   ],
   "source": [
    "tests = pd.read_csv('experimental data.csv', sep=';')\n",
    "tests"
   ]
  },
  {
   "cell_type": "code",
   "execution_count": 11,
   "id": "f2be3863",
   "metadata": {},
   "outputs": [
    {
     "data": {
      "text/html": [
       "<div>\n",
       "<style scoped>\n",
       "    .dataframe tbody tr th:only-of-type {\n",
       "        vertical-align: middle;\n",
       "    }\n",
       "\n",
       "    .dataframe tbody tr th {\n",
       "        vertical-align: top;\n",
       "    }\n",
       "\n",
       "    .dataframe thead th {\n",
       "        text-align: right;\n",
       "    }\n",
       "</style>\n",
       "<table border=\"1\" class=\"dataframe\">\n",
       "  <thead>\n",
       "    <tr style=\"text-align: right;\">\n",
       "      <th></th>\n",
       "      <th>Напряжение, В</th>\n",
       "      <th>Сила тока, А</th>\n",
       "      <th>Мощность, Вт</th>\n",
       "      <th>Плотность ТП, Вт/м2</th>\n",
       "    </tr>\n",
       "    <tr>\n",
       "      <th>Замер</th>\n",
       "      <th></th>\n",
       "      <th></th>\n",
       "      <th></th>\n",
       "      <th></th>\n",
       "    </tr>\n",
       "  </thead>\n",
       "  <tbody>\n",
       "    <tr>\n",
       "      <th>regstat8</th>\n",
       "      <td>0.900</td>\n",
       "      <td>2.05</td>\n",
       "      <td>1.84500</td>\n",
       "      <td>1958.598726</td>\n",
       "    </tr>\n",
       "    <tr>\n",
       "      <th>regstat7</th>\n",
       "      <td>1.025</td>\n",
       "      <td>2.15</td>\n",
       "      <td>2.20375</td>\n",
       "      <td>2339.437367</td>\n",
       "    </tr>\n",
       "    <tr>\n",
       "      <th>regstat6</th>\n",
       "      <td>1.110</td>\n",
       "      <td>2.40</td>\n",
       "      <td>2.66400</td>\n",
       "      <td>2828.025478</td>\n",
       "    </tr>\n",
       "    <tr>\n",
       "      <th>regstat5</th>\n",
       "      <td>1.330</td>\n",
       "      <td>2.90</td>\n",
       "      <td>3.85700</td>\n",
       "      <td>4094.479830</td>\n",
       "    </tr>\n",
       "    <tr>\n",
       "      <th>regstat4</th>\n",
       "      <td>1.500</td>\n",
       "      <td>3.20</td>\n",
       "      <td>4.80000</td>\n",
       "      <td>5095.541401</td>\n",
       "    </tr>\n",
       "    <tr>\n",
       "      <th>regstat3</th>\n",
       "      <td>1.680</td>\n",
       "      <td>3.70</td>\n",
       "      <td>6.21600</td>\n",
       "      <td>6598.726115</td>\n",
       "    </tr>\n",
       "    <tr>\n",
       "      <th>regstat2</th>\n",
       "      <td>1.900</td>\n",
       "      <td>4.20</td>\n",
       "      <td>7.98000</td>\n",
       "      <td>8471.337580</td>\n",
       "    </tr>\n",
       "    <tr>\n",
       "      <th>regstat1</th>\n",
       "      <td>2.130</td>\n",
       "      <td>4.70</td>\n",
       "      <td>10.01100</td>\n",
       "      <td>10627.388540</td>\n",
       "    </tr>\n",
       "    <tr>\n",
       "      <th>regstat9</th>\n",
       "      <td>2.520</td>\n",
       "      <td>5.85</td>\n",
       "      <td>14.74200</td>\n",
       "      <td>15649.681530</td>\n",
       "    </tr>\n",
       "    <tr>\n",
       "      <th>regstat10</th>\n",
       "      <td>3.020</td>\n",
       "      <td>6.70</td>\n",
       "      <td>20.23400</td>\n",
       "      <td>21479.830150</td>\n",
       "    </tr>\n",
       "    <tr>\n",
       "      <th>regstat11</th>\n",
       "      <td>3.500</td>\n",
       "      <td>7.80</td>\n",
       "      <td>27.30000</td>\n",
       "      <td>28980.891720</td>\n",
       "    </tr>\n",
       "    <tr>\n",
       "      <th>regstat12</th>\n",
       "      <td>4.000</td>\n",
       "      <td>8.95</td>\n",
       "      <td>35.80000</td>\n",
       "      <td>38004.246280</td>\n",
       "    </tr>\n",
       "    <tr>\n",
       "      <th>regstat13</th>\n",
       "      <td>4.520</td>\n",
       "      <td>10.20</td>\n",
       "      <td>46.10400</td>\n",
       "      <td>48942.675160</td>\n",
       "    </tr>\n",
       "  </tbody>\n",
       "</table>\n",
       "</div>"
      ],
      "text/plain": [
       "           Напряжение, В  Сила тока, А  Мощность, Вт  Плотность ТП, Вт/м2\n",
       "Замер                                                                    \n",
       "regstat8           0.900          2.05       1.84500          1958.598726\n",
       "regstat7           1.025          2.15       2.20375          2339.437367\n",
       "regstat6           1.110          2.40       2.66400          2828.025478\n",
       "regstat5           1.330          2.90       3.85700          4094.479830\n",
       "regstat4           1.500          3.20       4.80000          5095.541401\n",
       "regstat3           1.680          3.70       6.21600          6598.726115\n",
       "regstat2           1.900          4.20       7.98000          8471.337580\n",
       "regstat1           2.130          4.70      10.01100         10627.388540\n",
       "regstat9           2.520          5.85      14.74200         15649.681530\n",
       "regstat10          3.020          6.70      20.23400         21479.830150\n",
       "regstat11          3.500          7.80      27.30000         28980.891720\n",
       "regstat12          4.000          8.95      35.80000         38004.246280\n",
       "regstat13          4.520         10.20      46.10400         48942.675160"
      ]
     },
     "execution_count": 11,
     "metadata": {},
     "output_type": "execute_result"
    }
   ],
   "source": [
    "tests.sort_values(by='Мощность, Вт')"
   ]
  },
  {
   "cell_type": "code",
   "execution_count": 17,
   "id": "527b064e",
   "metadata": {},
   "outputs": [],
   "source": [
    "tests = tests.set_index('Замер')\n",
    "tests = tests.replace(',', '.', regex=True)\n",
    "tests = tests.astype(float)"
   ]
  },
  {
   "cell_type": "code",
   "execution_count": 18,
   "id": "ce243eab",
   "metadata": {},
   "outputs": [],
   "source": [
    "tests = tests.drop(columns={'Температура, °С'})"
   ]
  },
  {
   "cell_type": "code",
   "execution_count": 19,
   "id": "3a4e16a5",
   "metadata": {},
   "outputs": [
    {
     "data": {
      "text/html": [
       "<div>\n",
       "<style scoped>\n",
       "    .dataframe tbody tr th:only-of-type {\n",
       "        vertical-align: middle;\n",
       "    }\n",
       "\n",
       "    .dataframe tbody tr th {\n",
       "        vertical-align: top;\n",
       "    }\n",
       "\n",
       "    .dataframe thead th {\n",
       "        text-align: right;\n",
       "    }\n",
       "</style>\n",
       "<table border=\"1\" class=\"dataframe\">\n",
       "  <thead>\n",
       "    <tr style=\"text-align: right;\">\n",
       "      <th></th>\n",
       "      <th>U, V</th>\n",
       "      <th>I, A</th>\n",
       "      <th>P, W</th>\n",
       "      <th>q, W/m2</th>\n",
       "      <th>ΔT</th>\n",
       "    </tr>\n",
       "    <tr>\n",
       "      <th>Замер</th>\n",
       "      <th></th>\n",
       "      <th></th>\n",
       "      <th></th>\n",
       "      <th></th>\n",
       "      <th></th>\n",
       "    </tr>\n",
       "  </thead>\n",
       "  <tbody>\n",
       "    <tr>\n",
       "      <th>regstat1</th>\n",
       "      <td>2.130</td>\n",
       "      <td>4.70</td>\n",
       "      <td>10.01100</td>\n",
       "      <td>10627.388540</td>\n",
       "      <td>5.380303</td>\n",
       "    </tr>\n",
       "    <tr>\n",
       "      <th>regstat2</th>\n",
       "      <td>1.900</td>\n",
       "      <td>4.20</td>\n",
       "      <td>7.98000</td>\n",
       "      <td>8471.337580</td>\n",
       "      <td>5.026484</td>\n",
       "    </tr>\n",
       "    <tr>\n",
       "      <th>regstat3</th>\n",
       "      <td>1.680</td>\n",
       "      <td>3.70</td>\n",
       "      <td>6.21600</td>\n",
       "      <td>6598.726115</td>\n",
       "      <td>4.663551</td>\n",
       "    </tr>\n",
       "    <tr>\n",
       "      <th>regstat4</th>\n",
       "      <td>1.500</td>\n",
       "      <td>3.20</td>\n",
       "      <td>4.80000</td>\n",
       "      <td>5095.541401</td>\n",
       "      <td>4.315547</td>\n",
       "    </tr>\n",
       "    <tr>\n",
       "      <th>regstat5</th>\n",
       "      <td>1.330</td>\n",
       "      <td>2.90</td>\n",
       "      <td>3.85700</td>\n",
       "      <td>4094.479830</td>\n",
       "      <td>4.041461</td>\n",
       "    </tr>\n",
       "    <tr>\n",
       "      <th>regstat6</th>\n",
       "      <td>1.110</td>\n",
       "      <td>2.40</td>\n",
       "      <td>2.66400</td>\n",
       "      <td>2828.025478</td>\n",
       "      <td>3.616794</td>\n",
       "    </tr>\n",
       "    <tr>\n",
       "      <th>regstat7</th>\n",
       "      <td>1.025</td>\n",
       "      <td>2.15</td>\n",
       "      <td>2.20375</td>\n",
       "      <td>2339.437367</td>\n",
       "      <td>3.416742</td>\n",
       "    </tr>\n",
       "    <tr>\n",
       "      <th>regstat8</th>\n",
       "      <td>0.900</td>\n",
       "      <td>2.05</td>\n",
       "      <td>1.84500</td>\n",
       "      <td>1958.598726</td>\n",
       "      <td>3.239384</td>\n",
       "    </tr>\n",
       "    <tr>\n",
       "      <th>regstat9</th>\n",
       "      <td>2.520</td>\n",
       "      <td>5.85</td>\n",
       "      <td>14.74200</td>\n",
       "      <td>15649.681530</td>\n",
       "      <td>6.042691</td>\n",
       "    </tr>\n",
       "    <tr>\n",
       "      <th>regstat10</th>\n",
       "      <td>3.020</td>\n",
       "      <td>6.70</td>\n",
       "      <td>20.23400</td>\n",
       "      <td>21479.830150</td>\n",
       "      <td>6.644893</td>\n",
       "    </tr>\n",
       "    <tr>\n",
       "      <th>regstat11</th>\n",
       "      <td>3.500</td>\n",
       "      <td>7.80</td>\n",
       "      <td>27.30000</td>\n",
       "      <td>28980.891720</td>\n",
       "      <td>7.269629</td>\n",
       "    </tr>\n",
       "    <tr>\n",
       "      <th>regstat12</th>\n",
       "      <td>4.000</td>\n",
       "      <td>8.95</td>\n",
       "      <td>35.80000</td>\n",
       "      <td>38004.246280</td>\n",
       "      <td>7.885485</td>\n",
       "    </tr>\n",
       "    <tr>\n",
       "      <th>regstat13</th>\n",
       "      <td>4.520</td>\n",
       "      <td>10.20</td>\n",
       "      <td>46.10400</td>\n",
       "      <td>48942.675160</td>\n",
       "      <td>8.507169</td>\n",
       "    </tr>\n",
       "  </tbody>\n",
       "</table>\n",
       "</div>"
      ],
      "text/plain": [
       "            U, V   I, A      P, W       q, W/m2        ΔT\n",
       "Замер                                                    \n",
       "regstat1   2.130   4.70  10.01100  10627.388540  5.380303\n",
       "regstat2   1.900   4.20   7.98000   8471.337580  5.026484\n",
       "regstat3   1.680   3.70   6.21600   6598.726115  4.663551\n",
       "regstat4   1.500   3.20   4.80000   5095.541401  4.315547\n",
       "regstat5   1.330   2.90   3.85700   4094.479830  4.041461\n",
       "regstat6   1.110   2.40   2.66400   2828.025478  3.616794\n",
       "regstat7   1.025   2.15   2.20375   2339.437367  3.416742\n",
       "regstat8   0.900   2.05   1.84500   1958.598726  3.239384\n",
       "regstat9   2.520   5.85  14.74200  15649.681530  6.042691\n",
       "regstat10  3.020   6.70  20.23400  21479.830150  6.644893\n",
       "regstat11  3.500   7.80  27.30000  28980.891720  7.269629\n",
       "regstat12  4.000   8.95  35.80000  38004.246280  7.885485\n",
       "regstat13  4.520  10.20  46.10400  48942.675160  8.507169"
      ]
     },
     "execution_count": 19,
     "metadata": {},
     "output_type": "execute_result"
    }
   ],
   "source": [
    "tests.columns = ['U, V', 'I, A', 'P, W', 'q, W/m2']\n",
    "tests['ΔT'] = (tests['q, W/m2'] ** 0.3) / 3\n",
    "tests"
   ]
  },
  {
   "cell_type": "code",
   "execution_count": 20,
   "id": "e31e86bf",
   "metadata": {},
   "outputs": [
    {
     "data": {
      "text/html": [
       "<div>\n",
       "<style scoped>\n",
       "    .dataframe tbody tr th:only-of-type {\n",
       "        vertical-align: middle;\n",
       "    }\n",
       "\n",
       "    .dataframe tbody tr th {\n",
       "        vertical-align: top;\n",
       "    }\n",
       "\n",
       "    .dataframe thead th {\n",
       "        text-align: right;\n",
       "    }\n",
       "</style>\n",
       "<table border=\"1\" class=\"dataframe\">\n",
       "  <thead>\n",
       "    <tr style=\"text-align: right;\">\n",
       "      <th></th>\n",
       "      <th>U, V</th>\n",
       "      <th>I, A</th>\n",
       "      <th>P, W</th>\n",
       "      <th>q, W/m2</th>\n",
       "      <th>ΔT</th>\n",
       "      <th>D0, m</th>\n",
       "    </tr>\n",
       "    <tr>\n",
       "      <th>Замер</th>\n",
       "      <th></th>\n",
       "      <th></th>\n",
       "      <th></th>\n",
       "      <th></th>\n",
       "      <th></th>\n",
       "      <th></th>\n",
       "    </tr>\n",
       "  </thead>\n",
       "  <tbody>\n",
       "    <tr>\n",
       "      <th>regstat1</th>\n",
       "      <td>2.130</td>\n",
       "      <td>4.70</td>\n",
       "      <td>10.01100</td>\n",
       "      <td>10627.388540</td>\n",
       "      <td>5.380303</td>\n",
       "      <td>470.6</td>\n",
       "    </tr>\n",
       "    <tr>\n",
       "      <th>regstat2</th>\n",
       "      <td>1.900</td>\n",
       "      <td>4.20</td>\n",
       "      <td>7.98000</td>\n",
       "      <td>8471.337580</td>\n",
       "      <td>5.026484</td>\n",
       "      <td>433.5</td>\n",
       "    </tr>\n",
       "    <tr>\n",
       "      <th>regstat3</th>\n",
       "      <td>1.680</td>\n",
       "      <td>3.70</td>\n",
       "      <td>6.21600</td>\n",
       "      <td>6598.726115</td>\n",
       "      <td>4.663551</td>\n",
       "      <td>399.6</td>\n",
       "    </tr>\n",
       "    <tr>\n",
       "      <th>regstat4</th>\n",
       "      <td>1.500</td>\n",
       "      <td>3.20</td>\n",
       "      <td>4.80000</td>\n",
       "      <td>5095.541401</td>\n",
       "      <td>4.315547</td>\n",
       "      <td>387.0</td>\n",
       "    </tr>\n",
       "    <tr>\n",
       "      <th>regstat5</th>\n",
       "      <td>1.330</td>\n",
       "      <td>2.90</td>\n",
       "      <td>3.85700</td>\n",
       "      <td>4094.479830</td>\n",
       "      <td>4.041461</td>\n",
       "      <td>360.5</td>\n",
       "    </tr>\n",
       "    <tr>\n",
       "      <th>regstat6</th>\n",
       "      <td>1.110</td>\n",
       "      <td>2.40</td>\n",
       "      <td>2.66400</td>\n",
       "      <td>2828.025478</td>\n",
       "      <td>3.616794</td>\n",
       "      <td>319.1</td>\n",
       "    </tr>\n",
       "    <tr>\n",
       "      <th>regstat7</th>\n",
       "      <td>1.025</td>\n",
       "      <td>2.15</td>\n",
       "      <td>2.20375</td>\n",
       "      <td>2339.437367</td>\n",
       "      <td>3.416742</td>\n",
       "      <td>387.2</td>\n",
       "    </tr>\n",
       "    <tr>\n",
       "      <th>regstat8</th>\n",
       "      <td>0.900</td>\n",
       "      <td>2.05</td>\n",
       "      <td>1.84500</td>\n",
       "      <td>1958.598726</td>\n",
       "      <td>3.239384</td>\n",
       "      <td>373.4</td>\n",
       "    </tr>\n",
       "    <tr>\n",
       "      <th>regstat9</th>\n",
       "      <td>2.520</td>\n",
       "      <td>5.85</td>\n",
       "      <td>14.74200</td>\n",
       "      <td>15649.681530</td>\n",
       "      <td>6.042691</td>\n",
       "      <td>607.7</td>\n",
       "    </tr>\n",
       "    <tr>\n",
       "      <th>regstat10</th>\n",
       "      <td>3.020</td>\n",
       "      <td>6.70</td>\n",
       "      <td>20.23400</td>\n",
       "      <td>21479.830150</td>\n",
       "      <td>6.644893</td>\n",
       "      <td>829.5</td>\n",
       "    </tr>\n",
       "    <tr>\n",
       "      <th>regstat11</th>\n",
       "      <td>3.500</td>\n",
       "      <td>7.80</td>\n",
       "      <td>27.30000</td>\n",
       "      <td>28980.891720</td>\n",
       "      <td>7.269629</td>\n",
       "      <td>1048.6</td>\n",
       "    </tr>\n",
       "    <tr>\n",
       "      <th>regstat12</th>\n",
       "      <td>4.000</td>\n",
       "      <td>8.95</td>\n",
       "      <td>35.80000</td>\n",
       "      <td>38004.246280</td>\n",
       "      <td>7.885485</td>\n",
       "      <td>1207.4</td>\n",
       "    </tr>\n",
       "    <tr>\n",
       "      <th>regstat13</th>\n",
       "      <td>4.520</td>\n",
       "      <td>10.20</td>\n",
       "      <td>46.10400</td>\n",
       "      <td>48942.675160</td>\n",
       "      <td>8.507169</td>\n",
       "      <td>1104.0</td>\n",
       "    </tr>\n",
       "  </tbody>\n",
       "</table>\n",
       "</div>"
      ],
      "text/plain": [
       "            U, V   I, A      P, W       q, W/m2        ΔT   D0, m\n",
       "Замер                                                            \n",
       "regstat1   2.130   4.70  10.01100  10627.388540  5.380303   470.6\n",
       "regstat2   1.900   4.20   7.98000   8471.337580  5.026484   433.5\n",
       "regstat3   1.680   3.70   6.21600   6598.726115  4.663551   399.6\n",
       "regstat4   1.500   3.20   4.80000   5095.541401  4.315547   387.0\n",
       "regstat5   1.330   2.90   3.85700   4094.479830  4.041461   360.5\n",
       "regstat6   1.110   2.40   2.66400   2828.025478  3.616794   319.1\n",
       "regstat7   1.025   2.15   2.20375   2339.437367  3.416742   387.2\n",
       "regstat8   0.900   2.05   1.84500   1958.598726  3.239384   373.4\n",
       "regstat9   2.520   5.85  14.74200  15649.681530  6.042691   607.7\n",
       "regstat10  3.020   6.70  20.23400  21479.830150  6.644893   829.5\n",
       "regstat11  3.500   7.80  27.30000  28980.891720  7.269629  1048.6\n",
       "regstat12  4.000   8.95  35.80000  38004.246280  7.885485  1207.4\n",
       "regstat13  4.520  10.20  46.10400  48942.675160  8.507169  1104.0"
      ]
     },
     "execution_count": 20,
     "metadata": {},
     "output_type": "execute_result"
    }
   ],
   "source": [
    "tests['D0, m'] = [470.6, 433.5, 399.6, 387, 360.5, 319.1, 387.2, 373.4, 607.7, 829.5, 1048.6, 1207.4, 1104]\n",
    "tests"
   ]
  },
  {
   "cell_type": "code",
   "execution_count": 21,
   "id": "049657c9",
   "metadata": {},
   "outputs": [],
   "source": [
    "tests = tests.rename(columns={'D0, m' : 'D0, mkm'})"
   ]
  },
  {
   "cell_type": "code",
   "execution_count": 22,
   "id": "c19105c2",
   "metadata": {},
   "outputs": [],
   "source": [
    "tests = tests.drop(index='regstat13')"
   ]
  },
  {
   "cell_type": "code",
   "execution_count": 23,
   "id": "f260f3f4",
   "metadata": {},
   "outputs": [
    {
     "data": {
      "text/plain": [
       "[<matplotlib.lines.Line2D at 0x16f1c3350>]"
      ]
     },
     "execution_count": 23,
     "metadata": {},
     "output_type": "execute_result"
    },
    {
     "data": {
      "image/png": "[encoded data removed]",
      "text/plain": [
       "<Figure size 640x480 with 1 Axes>"
      ]
     },
     "metadata": {},
     "output_type": "display_data"
    }
   ],
   "source": [
    "x = np.linspace(3, 9, 5)\n",
    "graph, axes = plt.subplots()\n",
    "axes.errorbar(tests['ΔT'], tests['D0, mkm'], yerr=70, fmt='o', capsize=3, markersize=2)\n",
    "axes.plot(x, 0.25 * 1000000 * np.sqrt(1 + 100000 * (((((Cp * x * ρ_w) / (r * ρ_v)) / Pr) ** 2) / Ar)) * math.sqrt(σ / (g * ρ_w)))"
   ]
  },
  {
   "cell_type": "markdown",
   "id": "634b5461",
   "metadata": {},
   "source": [
    "Подбираем а:"
   ]
  },
  {
   "cell_type": "code",
   "execution_count": 15,
   "id": "a9a50d21",
   "metadata": {},
   "outputs": [
    {
     "data": {
      "text/html": [
       "<div>\n",
       "<style scoped>\n",
       "    .dataframe tbody tr th:only-of-type {\n",
       "        vertical-align: middle;\n",
       "    }\n",
       "\n",
       "    .dataframe tbody tr th {\n",
       "        vertical-align: top;\n",
       "    }\n",
       "\n",
       "    .dataframe thead th {\n",
       "        text-align: right;\n",
       "    }\n",
       "</style>\n",
       "<table border=\"1\" class=\"dataframe\">\n",
       "  <thead>\n",
       "    <tr style=\"text-align: right;\">\n",
       "      <th></th>\n",
       "      <th>Напряжение, В</th>\n",
       "      <th>Сила тока, А</th>\n",
       "      <th>Мощность, Вт</th>\n",
       "      <th>Плотность ТП, Вт/м2</th>\n",
       "    </tr>\n",
       "    <tr>\n",
       "      <th>Замер</th>\n",
       "      <th></th>\n",
       "      <th></th>\n",
       "      <th></th>\n",
       "      <th></th>\n",
       "    </tr>\n",
       "  </thead>\n",
       "  <tbody>\n",
       "    <tr>\n",
       "      <th>regstat1</th>\n",
       "      <td>2.130</td>\n",
       "      <td>4.70</td>\n",
       "      <td>10.01100</td>\n",
       "      <td>10627.388540</td>\n",
       "    </tr>\n",
       "    <tr>\n",
       "      <th>regstat2</th>\n",
       "      <td>1.900</td>\n",
       "      <td>4.20</td>\n",
       "      <td>7.98000</td>\n",
       "      <td>8471.337580</td>\n",
       "    </tr>\n",
       "    <tr>\n",
       "      <th>regstat3</th>\n",
       "      <td>1.680</td>\n",
       "      <td>3.70</td>\n",
       "      <td>6.21600</td>\n",
       "      <td>6598.726115</td>\n",
       "    </tr>\n",
       "    <tr>\n",
       "      <th>regstat4</th>\n",
       "      <td>1.500</td>\n",
       "      <td>3.20</td>\n",
       "      <td>4.80000</td>\n",
       "      <td>5095.541401</td>\n",
       "    </tr>\n",
       "    <tr>\n",
       "      <th>regstat5</th>\n",
       "      <td>1.330</td>\n",
       "      <td>2.90</td>\n",
       "      <td>3.85700</td>\n",
       "      <td>4094.479830</td>\n",
       "    </tr>\n",
       "    <tr>\n",
       "      <th>regstat6</th>\n",
       "      <td>1.110</td>\n",
       "      <td>2.40</td>\n",
       "      <td>2.66400</td>\n",
       "      <td>2828.025478</td>\n",
       "    </tr>\n",
       "    <tr>\n",
       "      <th>regstat7</th>\n",
       "      <td>1.025</td>\n",
       "      <td>2.15</td>\n",
       "      <td>2.20375</td>\n",
       "      <td>2339.437367</td>\n",
       "    </tr>\n",
       "    <tr>\n",
       "      <th>regstat8</th>\n",
       "      <td>0.900</td>\n",
       "      <td>2.05</td>\n",
       "      <td>1.84500</td>\n",
       "      <td>1958.598726</td>\n",
       "    </tr>\n",
       "    <tr>\n",
       "      <th>regstat9</th>\n",
       "      <td>2.520</td>\n",
       "      <td>5.85</td>\n",
       "      <td>14.74200</td>\n",
       "      <td>15649.681530</td>\n",
       "    </tr>\n",
       "    <tr>\n",
       "      <th>regstat10</th>\n",
       "      <td>3.020</td>\n",
       "      <td>6.70</td>\n",
       "      <td>20.23400</td>\n",
       "      <td>21479.830150</td>\n",
       "    </tr>\n",
       "    <tr>\n",
       "      <th>regstat11</th>\n",
       "      <td>3.500</td>\n",
       "      <td>7.80</td>\n",
       "      <td>27.30000</td>\n",
       "      <td>28980.891720</td>\n",
       "    </tr>\n",
       "    <tr>\n",
       "      <th>regstat12</th>\n",
       "      <td>4.000</td>\n",
       "      <td>8.95</td>\n",
       "      <td>35.80000</td>\n",
       "      <td>38004.246280</td>\n",
       "    </tr>\n",
       "    <tr>\n",
       "      <th>regstat13</th>\n",
       "      <td>4.520</td>\n",
       "      <td>10.20</td>\n",
       "      <td>46.10400</td>\n",
       "      <td>48942.675160</td>\n",
       "    </tr>\n",
       "  </tbody>\n",
       "</table>\n",
       "</div>"
      ],
      "text/plain": [
       "           Напряжение, В  Сила тока, А  Мощность, Вт  Плотность ТП, Вт/м2\n",
       "Замер                                                                    \n",
       "regstat1           2.130          4.70      10.01100         10627.388540\n",
       "regstat2           1.900          4.20       7.98000          8471.337580\n",
       "regstat3           1.680          3.70       6.21600          6598.726115\n",
       "regstat4           1.500          3.20       4.80000          5095.541401\n",
       "regstat5           1.330          2.90       3.85700          4094.479830\n",
       "regstat6           1.110          2.40       2.66400          2828.025478\n",
       "regstat7           1.025          2.15       2.20375          2339.437367\n",
       "regstat8           0.900          2.05       1.84500          1958.598726\n",
       "regstat9           2.520          5.85      14.74200         15649.681530\n",
       "regstat10          3.020          6.70      20.23400         21479.830150\n",
       "regstat11          3.500          7.80      27.30000         28980.891720\n",
       "regstat12          4.000          8.95      35.80000         38004.246280\n",
       "regstat13          4.520         10.20      46.10400         48942.675160"
      ]
     },
     "execution_count": 15,
     "metadata": {},
     "output_type": "execute_result"
    }
   ],
   "source": [
    "tests"
   ]
  },
  {
   "cell_type": "code",
   "execution_count": 73,
   "id": "2145b515",
   "metadata": {},
   "outputs": [
    {
     "data": {
      "text/plain": [
       "0.48156281692691627"
      ]
     },
     "execution_count": 73,
     "metadata": {},
     "output_type": "execute_result"
    }
   ],
   "source": [
    "def func(x, a):\n",
    "    return a * 1000000 * np.sqrt(1 + 100000 * (((((Cp * x * ρ_w) / (r * ρ_v)) / Pr) ** 2) / Ar)) * math.sqrt(σ / (g * ρ_w))\n",
    "popt, pcov = curve_fit(func, tests['ΔT'], tests['D0, mkm'])\n",
    "a_opt = popt\n",
    "D0_fit = func(tests['ΔT'], a_opt)\n",
    "r2 = r2_score(tests['D0, mkm'], D0_fit)\n",
    "r2"
   ]
  },
  {
   "cell_type": "markdown",
   "id": "807a0e62",
   "metadata": {},
   "source": [
    "Оптимальный а=0,42"
   ]
  },
  {
   "cell_type": "code",
   "execution_count": 29,
   "id": "776355bf",
   "metadata": {},
   "outputs": [
    {
     "data": {
      "image/png": "[encoded data removed]",
      "text/plain": [
       "<Figure size 640x480 with 1 Axes>"
      ]
     },
     "metadata": {},
     "output_type": "display_data"
    }
   ],
   "source": [
    "x = np.linspace(3, 9, 5)\n",
    "graph, axes = plt.subplots()\n",
    "axes.errorbar(tests['ΔT'], tests['D0, mkm'], yerr=70, fmt='o', capsize=3, markersize=2)\n",
    "axes.plot(x, 0.42 * 1000000 * np.sqrt(1 + 100000 * (((((Cp * x * ρ_w) / (r * ρ_v)) / Pr) ** 2) / Ar)) * math.sqrt(σ / (g * ρ_w)))\n",
    "axes.set_xlabel('ΔT')\n",
    "axes.set_ylabel('D0, mkm')\n",
    "axes.grid()\n",
    "axes.axis([3, 9, 200, 1400])"
   ]
  },
  {
   "cell_type": "markdown",
   "id": "a94a295f",
   "metadata": {},
   "source": [
    "Отсекаем 4 последние точки из-за коалесценции:"
   ]
  },
  {
   "cell_type": "code",
   "execution_count": 24,
   "id": "e38e4d79",
   "metadata": {},
   "outputs": [],
   "source": [
    "tests_cut = tests.drop(index=['regstat9', 'regstat10', 'regstat11', 'regstat12'])"
   ]
  },
  {
   "cell_type": "code",
   "execution_count": 30,
   "id": "5043f40f",
   "metadata": {},
   "outputs": [
    {
     "data": {
      "text/html": [
       "<div>\n",
       "<style scoped>\n",
       "    .dataframe tbody tr th:only-of-type {\n",
       "        vertical-align: middle;\n",
       "    }\n",
       "\n",
       "    .dataframe tbody tr th {\n",
       "        vertical-align: top;\n",
       "    }\n",
       "\n",
       "    .dataframe thead th {\n",
       "        text-align: right;\n",
       "    }\n",
       "</style>\n",
       "<table border=\"1\" class=\"dataframe\">\n",
       "  <thead>\n",
       "    <tr style=\"text-align: right;\">\n",
       "      <th></th>\n",
       "      <th>U, V</th>\n",
       "      <th>I, A</th>\n",
       "      <th>P, W</th>\n",
       "      <th>q, W/m2</th>\n",
       "      <th>ΔT</th>\n",
       "      <th>D0, mkm</th>\n",
       "    </tr>\n",
       "    <tr>\n",
       "      <th>Замер</th>\n",
       "      <th></th>\n",
       "      <th></th>\n",
       "      <th></th>\n",
       "      <th></th>\n",
       "      <th></th>\n",
       "      <th></th>\n",
       "    </tr>\n",
       "  </thead>\n",
       "  <tbody>\n",
       "    <tr>\n",
       "      <th>regstat8</th>\n",
       "      <td>0.900</td>\n",
       "      <td>2.05</td>\n",
       "      <td>1.84500</td>\n",
       "      <td>1958.598726</td>\n",
       "      <td>3.239384</td>\n",
       "      <td>373.4</td>\n",
       "    </tr>\n",
       "    <tr>\n",
       "      <th>regstat7</th>\n",
       "      <td>1.025</td>\n",
       "      <td>2.15</td>\n",
       "      <td>2.20375</td>\n",
       "      <td>2339.437367</td>\n",
       "      <td>3.416742</td>\n",
       "      <td>387.2</td>\n",
       "    </tr>\n",
       "    <tr>\n",
       "      <th>regstat6</th>\n",
       "      <td>1.110</td>\n",
       "      <td>2.40</td>\n",
       "      <td>2.66400</td>\n",
       "      <td>2828.025478</td>\n",
       "      <td>3.616794</td>\n",
       "      <td>319.1</td>\n",
       "    </tr>\n",
       "    <tr>\n",
       "      <th>regstat5</th>\n",
       "      <td>1.330</td>\n",
       "      <td>2.90</td>\n",
       "      <td>3.85700</td>\n",
       "      <td>4094.479830</td>\n",
       "      <td>4.041461</td>\n",
       "      <td>360.5</td>\n",
       "    </tr>\n",
       "    <tr>\n",
       "      <th>regstat4</th>\n",
       "      <td>1.500</td>\n",
       "      <td>3.20</td>\n",
       "      <td>4.80000</td>\n",
       "      <td>5095.541401</td>\n",
       "      <td>4.315547</td>\n",
       "      <td>387.0</td>\n",
       "    </tr>\n",
       "    <tr>\n",
       "      <th>regstat3</th>\n",
       "      <td>1.680</td>\n",
       "      <td>3.70</td>\n",
       "      <td>6.21600</td>\n",
       "      <td>6598.726115</td>\n",
       "      <td>4.663551</td>\n",
       "      <td>399.6</td>\n",
       "    </tr>\n",
       "    <tr>\n",
       "      <th>regstat2</th>\n",
       "      <td>1.900</td>\n",
       "      <td>4.20</td>\n",
       "      <td>7.98000</td>\n",
       "      <td>8471.337580</td>\n",
       "      <td>5.026484</td>\n",
       "      <td>433.5</td>\n",
       "    </tr>\n",
       "    <tr>\n",
       "      <th>regstat1</th>\n",
       "      <td>2.130</td>\n",
       "      <td>4.70</td>\n",
       "      <td>10.01100</td>\n",
       "      <td>10627.388540</td>\n",
       "      <td>5.380303</td>\n",
       "      <td>470.6</td>\n",
       "    </tr>\n",
       "  </tbody>\n",
       "</table>\n",
       "</div>"
      ],
      "text/plain": [
       "           U, V  I, A      P, W       q, W/m2        ΔT  D0, mkm\n",
       "Замер                                                           \n",
       "regstat8  0.900  2.05   1.84500   1958.598726  3.239384    373.4\n",
       "regstat7  1.025  2.15   2.20375   2339.437367  3.416742    387.2\n",
       "regstat6  1.110  2.40   2.66400   2828.025478  3.616794    319.1\n",
       "regstat5  1.330  2.90   3.85700   4094.479830  4.041461    360.5\n",
       "regstat4  1.500  3.20   4.80000   5095.541401  4.315547    387.0\n",
       "regstat3  1.680  3.70   6.21600   6598.726115  4.663551    399.6\n",
       "regstat2  1.900  4.20   7.98000   8471.337580  5.026484    433.5\n",
       "regstat1  2.130  4.70  10.01100  10627.388540  5.380303    470.6"
      ]
     },
     "execution_count": 30,
     "metadata": {},
     "output_type": "execute_result"
    }
   ],
   "source": [
    "tests_cut.sort_values(by='ΔT')"
   ]
  },
  {
   "cell_type": "markdown",
   "id": "36b472da",
   "metadata": {},
   "source": [
    "Подбираем а:"
   ]
  },
  {
   "cell_type": "code",
   "execution_count": 73,
   "id": "e4a68cef",
   "metadata": {},
   "outputs": [
    {
     "data": {
      "text/plain": [
       "(0.6673097756489064, 0.27656180100030087, 150506.8809863678)"
      ]
     },
     "execution_count": 73,
     "metadata": {},
     "output_type": "execute_result"
    }
   ],
   "source": [
    "def func2(y, a2, b2):\n",
    "    return a2 * 1000000 * np.sqrt(1 + b2 * (((((Cp * y * ρ_w) / (r * ρ_v)) / Pr) ** 2) / Ar)) * math.sqrt(σ / (g * ρ_w))\n",
    "popt2, pcov2 = curve_fit(func2, tests_cut['ΔT'], tests_cut['D0, mkm'])\n",
    "a_opt2, b_opt2 = popt2\n",
    "D0_fit2 = func2(tests_cut['ΔT'], *popt2)\n",
    "r2 = r2_score(tests_cut['D0, mkm'], D0_fit2)\n",
    "r2, *popt2"
   ]
  },
  {
   "cell_type": "markdown",
   "id": "4284de8e",
   "metadata": {},
   "source": [
    "Оптимальный а=0,277 b=15000"
   ]
  },
  {
   "cell_type": "code",
   "execution_count": 82,
   "id": "92c91694",
   "metadata": {
    "scrolled": true
   },
   "outputs": [
    {
     "data": {
      "image/png": "[encoded data removed]",
      "text/plain": [
       "<Figure size 640x480 with 1 Axes>"
      ]
     },
     "metadata": {},
     "output_type": "display_data"
    }
   ],
   "source": [
    "x = np.linspace(3, 9, 5)\n",
    "graph, ax = plt.subplots()\n",
    "ax.errorbar(tests_cut['ΔT'], tests_cut['D0, mkm'], yerr=45, fmt='o', capsize=3, markersize=2)\n",
    "ax.plot(x, 0.277 * 1000000 * np.sqrt(1 + 150000 * (((((Cp * x * ρ_w) / (r * ρ_v)) / Pr) ** 2) / Ar)) * math.sqrt(σ / (g * ρ_w)))\n",
    "ax.set_xlabel('ΔT')\n",
    "ax.set_ylabel('D0, mkm')\n",
    "ax.axis([3, 5.5, 200, 600])\n",
    "plt.savefig('D0, mkm.png')"
   ]
  },
  {
   "cell_type": "markdown",
   "id": "84c19cf5",
   "metadata": {},
   "source": [
    "Расчет отклонений"
   ]
  },
  {
   "cell_type": "code",
   "execution_count": 85,
   "id": "7e7dfa9b",
   "metadata": {},
   "outputs": [],
   "source": [
    "tests_cut['D0_theory, mkm'] = 0.277 * 1000000 * np.sqrt(1 + 150000 * (((((Cp * tests_cut['ΔT'] * ρ_w) / (r * ρ_v)) / Pr) ** 2) / Ar)) * math.sqrt(σ / (g * ρ_w))\n",
    "tests_cut['D0 deviation, %'] = abs(tests_cut['D0, mkm'] - tests_cut['D0_theory, mkm']) * 100 / tests_cut['D0_theory, mkm']\n",
    "tests_cut['D0 deviation_mean, %'] = tests_cut['D0 deviation, %'].mean()\n",
    "tests_cut.round(2).to_excel('deviations.xlsx')"
   ]
  },
  {
   "cell_type": "markdown",
   "id": "e0256e0b",
   "metadata": {},
   "source": [
    "скорость роста:"
   ]
  },
  {
   "cell_type": "code",
   "execution_count": 92,
   "id": "7ee08df6",
   "metadata": {},
   "outputs": [],
   "source": [
    "growth = pd.read_csv('bubble growth.csv', sep=';')"
   ]
  },
  {
   "cell_type": "code",
   "execution_count": 93,
   "id": "fc1edca8",
   "metadata": {},
   "outputs": [],
   "source": [
    "growth2 = growth[['t2', 'd2']]\n",
    "growth3 = growth[['t3', 'd3']]\n",
    "growth6 = growth[['t6', 'd6']]\n",
    "growth7 = growth[['t7', 'd7']]\n",
    "growth8 = growth[['t8', 'd8']]"
   ]
  },
  {
   "cell_type": "code",
   "execution_count": 94,
   "id": "ec3d1a53",
   "metadata": {},
   "outputs": [],
   "source": [
    "growth2 = growth2.dropna()\n",
    "growth3 = growth3.dropna()\n",
    "growth6 = growth6.dropna()\n",
    "growth7 = growth7.dropna()\n",
    "growth8 = growth8.dropna()"
   ]
  },
  {
   "cell_type": "code",
   "execution_count": 95,
   "id": "b58cb867",
   "metadata": {},
   "outputs": [],
   "source": [
    "growth2 = growth2.astype('int32')\n",
    "growth3 = growth3.astype('int32')\n",
    "growth6 = growth6.astype('int32')\n",
    "growth7 = growth7.astype('int32')\n",
    "growth8 = growth8.astype('int32')"
   ]
  },
  {
   "cell_type": "code",
   "execution_count": 126,
   "id": "f7dd767d",
   "metadata": {
    "scrolled": false
   },
   "outputs": [
    {
     "data": {
      "image/png": "[encoded data removed]",
      "text/plain": [
       "<Figure size 1200x1000 with 6 Axes>"
      ]
     },
     "metadata": {},
     "output_type": "display_data"
    }
   ],
   "source": [
    "growth_data = [\n",
    "    {'t': growth2['t2'], 'd': growth2['d2']},\n",
    "    {'t': growth3['t3'], 'd': growth3['d3']},\n",
    "    {'t': growth6['t6'], 'd': growth6['d6']},\n",
    "    {'t': growth7['t7'], 'd': growth7['d7']},\n",
    "    {'t': growth8['t8'], 'd': growth8['d8']}\n",
    "]\n",
    "    \n",
    "temperatures = [5.02, 4.66, 3.62, 3.42, 3.24]\n",
    "def growth_func(x, temper):\n",
    "    gamma = 0.46\n",
    "    beta = 19.3\n",
    "    return 2000000 * np.sqrt(a_t * x / 1000000) * (gamma * ((Cp * temper * ρ_w) / (r * ρ_v)) + \n",
    "                                 np.sqrt((gamma ** 2) * (((Cp * temper * ρ_w) / (r * ρ_v)) ** 2) + \n",
    "                                           2 * beta * ((Cp * temper * ρ_w) / (r * ρ_v))))\n",
    "fig, axes = plt.subplots(nrows=3, ncols=2, figsize=[12, 10])\n",
    "axes = axes.flatten()\n",
    "titles = ['ΔT = 5.02 K', 'ΔT = 4.66 K', 'ΔT = 3.62 K', 'ΔT = 3.42 K', 'ΔT = 3.24 K']\n",
    "\n",
    "for ax, data, tempr, tit in zip(axes, growth_data, temperatures, titles):\n",
    "    ax.errorbar(data['t'], data['d'],yerr=46, fmt='o', capsize=3, markersize=2)\n",
    "    x_set = np.linspace(5, 5000, 100) \n",
    "    y_set = growth_func(x_set, tempr)\n",
    "    ax.set_xlabel('t, mks')\n",
    "    ax.set_ylabel('D, mkm')\n",
    "\n",
    "    ax.set_title(tit)\n",
    "    ax.axis([0, 4000, 0, 600])\n",
    "    ax.plot(x_set, y_set)\n",
    "    ax.set_xticks(ax.get_xticks()[::])\n",
    "    ax.set_yticks(ax.get_yticks()[::2])\n",
    "\n",
    "plt.tight_layout()\n",
    "plt.savefig('gr_vel.png')"
   ]
  },
  {
   "cell_type": "markdown",
   "id": "e154c7b2",
   "metadata": {},
   "source": [
    "Подбор гаммы и беты"
   ]
  },
  {
   "cell_type": "code",
   "execution_count": 134,
   "id": "3f6505d0",
   "metadata": {},
   "outputs": [
    {
     "name": "stdout",
     "output_type": "stream",
     "text": [
      "0.2540739961814704 [-227.80296939 5385.26931553]\n"
     ]
    }
   ],
   "source": [
    "def func_gamma2(x, gamma, beta):\n",
    "    tem = 5.02\n",
    "    return 2000000 * np.sqrt(a_t * x / 1000000) * (gamma * ((Cp * tem * ρ_w) / (r * ρ_v)) + \n",
    "                                 np.sqrt((gamma ** 2) * (((Cp * tem * ρ_w) / (r * ρ_v)) ** 2) + \n",
    "                                           2 * beta * ((Cp * tem * ρ_w) / (r * ρ_v))))\n",
    "popt2, pcov2 = curve_fit(func_gamma2, growth2['t2'], growth2['d2'])\n",
    "xf = np.linspace(0, 4000, 100)\n",
    "d2_fit = func_gamma2(growth2['t2'], *popt2) \n",
    "r21 = r2_score(growth2['d2'], d2_fit)\n",
    "print(r21, popt2)"
   ]
  },
  {
   "cell_type": "code",
   "execution_count": 119,
   "id": "9be8b55f",
   "metadata": {},
   "outputs": [
    {
     "name": "stdout",
     "output_type": "stream",
     "text": [
      "0.2480836321642761 [  1.85476127 -11.47320186]\n"
     ]
    },
    {
     "name": "stderr",
     "output_type": "stream",
     "text": [
      "/var/folders/ny/ztz4f1q524j9x_5hk806v3gc0000gp/T/ipykernel_46533/3357824748.py:4: RuntimeWarning: invalid value encountered in sqrt\n",
      "  np.sqrt((gamma ** 2) * (((Cp * tem * ρ_w) / (r * ρ_v)) ** 2) +\n"
     ]
    }
   ],
   "source": [
    "def func_gamma3(x, gamma, beta):\n",
    "    tem = 4.66\n",
    "    return 2000000 * np.sqrt(a_t * x / 1000000) * (gamma * ((Cp * tem * ρ_w) / (r * ρ_v)) + \n",
    "                                 np.sqrt((gamma ** 2) * (((Cp * tem * ρ_w) / (r * ρ_v)) ** 2) + \n",
    "                                           2 * beta * ((Cp * tem * ρ_w) / (r * ρ_v))))\n",
    "popt3, pcov3 = curve_fit(func_gamma3, growth3['t3'], growth3['d3'])\n",
    "d3_fit = func_gamma3(growth3['t3'], *popt3) \n",
    "r3 = r2_score(growth3['d3'], d3_fit)\n",
    "print(r3, popt3)"
   ]
  },
  {
   "cell_type": "code",
   "execution_count": 129,
   "id": "415ba4d8",
   "metadata": {},
   "outputs": [
    {
     "name": "stdout",
     "output_type": "stream",
     "text": [
      "-0.1960501557179981 [ -81.43992459 1325.06522954]\n"
     ]
    }
   ],
   "source": [
    "def func_gamma6(x, gamma, beta):\n",
    "    tem = 3.62\n",
    "    return 2000000 * np.sqrt(a_t * x / 1000000) * (gamma * ((Cp * tem * ρ_w) / (r * ρ_v)) + \n",
    "                                 np.sqrt((gamma ** 2) * (((Cp * tem * ρ_w) / (r * ρ_v)) ** 2) + \n",
    "                                           2 * beta * ((Cp * tem * ρ_w) / (r * ρ_v))))\n",
    "popt6, pcov6 = curve_fit(func_gamma6, growth6['t6'], growth6['d6'])\n",
    "d6_fit = func_gamma6(growth6['t6'], *popt6) \n",
    "r6 = r2_score(growth6['d6'], d6_fit)\n",
    "print(r6, popt6)"
   ]
  },
  {
   "cell_type": "code",
   "execution_count": 143,
   "id": "e537c634",
   "metadata": {},
   "outputs": [
    {
     "name": "stdout",
     "output_type": "stream",
     "text": [
      "0.28287191781523724 [ 1.18752434 11.47669586]\n"
     ]
    },
    {
     "name": "stderr",
     "output_type": "stream",
     "text": [
      "/var/folders/ny/ztz4f1q524j9x_5hk806v3gc0000gp/T/ipykernel_46533/1829922719.py:4: RuntimeWarning: invalid value encountered in sqrt\n",
      "  np.sqrt((gamma ** 2) * (((Cp * tem * ρ_w) / (r * ρ_v)) ** 2) +\n"
     ]
    }
   ],
   "source": [
    "def func_gamma7(x, gamma, beta):\n",
    "    tem = 3.42\n",
    "    return 2000000 * np.sqrt(a_t * x / 1000000) * (gamma * ((Cp * tem * ρ_w) / (r * ρ_v)) + \n",
    "                                 np.sqrt((gamma ** 2) * (((Cp * tem * ρ_w) / (r * ρ_v)) ** 2) + \n",
    "                                           2 * beta * ((Cp * tem * ρ_w) / (r * ρ_v))))\n",
    "popt7, pcov7 = curve_fit(func_gamma7, growth7['t7'], growth7['d7'])\n",
    "d7_fit = func_gamma7(growth7['t7'], *popt7) \n",
    "r7 = r2_score(growth7['d7'], d7_fit)\n",
    "print(r7, popt7)"
   ]
  },
  {
   "cell_type": "code",
   "execution_count": 145,
   "id": "475364b5",
   "metadata": {},
   "outputs": [
    {
     "name": "stdout",
     "output_type": "stream",
     "text": [
      "0.05481681923451809 [-112.62740385 2091.74352206]\n"
     ]
    }
   ],
   "source": [
    "def func_gamma8(x, gamma, beta):\n",
    "    tem = 3.24\n",
    "    return 2000000 * np.sqrt(a_t * x / 1000000) * (gamma * ((Cp * tem * ρ_w) / (r * ρ_v)) + \n",
    "                                 np.sqrt((gamma ** 2) * (((Cp * tem * ρ_w) / (r * ρ_v)) ** 2) + \n",
    "                                           2 * beta * ((Cp * tem * ρ_w) / (r * ρ_v))))\n",
    "popt8, pcov8 = curve_fit(func_gamma8, growth8['t8'], growth8['d8'])\n",
    "d8_fit = func_gamma8(growth8['t8'], *popt8) \n",
    "r8 = r2_score(growth8['d8'], d8_fit)\n",
    "print(r8, popt8)"
   ]
  },
  {
   "cell_type": "markdown",
   "id": "802f2447",
   "metadata": {},
   "source": [
    "Подбор общих гаммы и беты:"
   ]
  },
  {
   "cell_type": "code",
   "execution_count": 118,
   "id": "2ff4c165",
   "metadata": {},
   "outputs": [],
   "source": [
    "growth_data = [\n",
    "    {'t' : growth2['t2'], 'd' : growth2['d2'], 'temperature' : 5.02},\n",
    "    {'t' : growth3['t3'], 'd' : growth3['d3'], 'temperature' : 4.66},\n",
    "    {'t' : growth6['t6'], 'd' : growth6['d6'], 'temperature' : 3.62},\n",
    "    {'t' : growth7['t7'], 'd' : growth7['d7'], 'temperature' : 3.42},\n",
    "    {'t' : growth8['t8'], 'd' : growth8['d8'], 'temperature' : 3.24}]\n",
    "\n",
    "all_data = pd.concat([pd.DataFrame(data) for data in growth_data])"
   ]
  },
  {
   "cell_type": "code",
   "execution_count": 119,
   "id": "1ea98eae",
   "metadata": {},
   "outputs": [
    {
     "name": "stdout",
     "output_type": "stream",
     "text": [
      "0.17630257207476208 [ 0.45636387 19.34409678]\n"
     ]
    }
   ],
   "source": [
    "def combined_func(t, gamma, beta):\n",
    "    temp = all_data['temperature']\n",
    "    return 2000000 * np.sqrt(a_t * t / 1000000) * (\n",
    "        gamma * ((Cp * temp * ρ_w) / (r * ρ_v)) + \n",
    "        np.sqrt((gamma ** 2) * (((Cp * temp * ρ_w) / (r * ρ_v)) ** 2) + \n",
    "                2 * beta * ((Cp * temp * ρ_w) / (r * ρ_v))))\n",
    "                    \n",
    "popt, pcov = curve_fit(combined_func, all_data['t'], all_data['d'])\n",
    "d_fit = combined_func(all_data['t'], *popt)\n",
    "\n",
    "R2 = r2_score(all_data['d'], d_fit)\n",
    "print( R2, popt)"
   ]
  },
  {
   "cell_type": "code",
   "execution_count": 115,
   "id": "21879999",
   "metadata": {},
   "outputs": [
    {
     "name": "stdout",
     "output_type": "stream",
     "text": [
      "-0.7436272737078506 [ 0.5 10. ]\n"
     ]
    }
   ],
   "source": [
    "def combined_func(t, gamma, beta):\n",
    "    temp = all_data['temperature']\n",
    "    return 2000000 * np.sqrt(a_t * t / 1000000) * (\n",
    "        gamma * ((Cp * temp * ρ_w) / (r * ρ_v)) + \n",
    "        np.sqrt((gamma ** 2) * (((Cp * temp * ρ_w) / (r * ρ_v)) ** 2) + \n",
    "                2 * beta * ((Cp * temp * ρ_w) / (r * ρ_v))))\n",
    "                    \n",
    "popt, pcov = curve_fit(combined_func, all_data['t'], all_data['d'], bounds=([0.1, 5], [0.5, 10]))\n",
    "d_fit = combined_func(all_data['t'], *popt)\n",
    "\n",
    "R2 = r2_score(all_data['d'], d_fit)\n",
    "print( R2, popt)"
   ]
  },
  {
   "cell_type": "markdown",
   "id": "b9d2b2cf",
   "metadata": {},
   "source": [
    "Гистограммы:"
   ]
  },
  {
   "cell_type": "code",
   "execution_count": 61,
   "id": "65ed60eb",
   "metadata": {},
   "outputs": [],
   "source": [
    "hist = pd.read_csv('histogram.csv', sep=';')"
   ]
  },
  {
   "cell_type": "code",
   "execution_count": 62,
   "id": "62669523",
   "metadata": {},
   "outputs": [],
   "source": [
    "regstat1 = hist['regstat1']\n",
    "regstat4 = hist['regstat4']\n",
    "regstat8 = hist['regstat8']\n",
    "regstat3 = hist['regstat3']\n",
    "regstat5 = hist['regstat5']"
   ]
  },
  {
   "cell_type": "code",
   "execution_count": 40,
   "id": "549310af",
   "metadata": {},
   "outputs": [],
   "source": [
    "regstat1 = regstat1.dropna().astype('float')\n",
    "regstat4 = regstat4.dropna().astype('float')\n",
    "regstat8 = regstat8.dropna().astype('float')\n",
    "regstat3 = regstat3.dropna().astype('float')\n",
    "regstat5 = regstat5.dropna().astype('float')"
   ]
  },
  {
   "cell_type": "code",
   "execution_count": 86,
   "id": "27add635",
   "metadata": {},
   "outputs": [
    {
     "data": {
      "image/png": "[encoded data removed]",
      "text/plain": [
       "<Figure size 1500x1500 with 3 Axes>"
      ]
     },
     "metadata": {},
     "output_type": "display_data"
    }
   ],
   "source": [
    "fig, axes = plt.subplots(3, 1, figsize=(15, 15))\n",
    "sns.set_theme(style=\"whitegrid\")\n",
    "sns.histplot(regstat8, label='ΔT = 3.2 K', color='#00B4D8', stat='probability', edgecolor=\"1\",\n",
    "    linewidth=1, binwidth=10, ax=axes[0])\n",
    "sns.histplot(regstat4, label='ΔT = 4.3 K', color='#0077b6', stat='probability', edgecolor=\"1\",\n",
    "    linewidth=1, binwidth=10,  ax=axes[1])\n",
    "sns.histplot(regstat1, label='ΔT = 5.4 K', color='#03045e', stat='probability', edgecolor=\"1\",\n",
    "    linewidth=1, binwidth=10, ax=axes[2])\n",
    "axes[0].legend(fontsize=24)\n",
    "axes[1].legend(fontsize=24)\n",
    "axes[2].legend(fontsize=24)\n",
    "axes[0].set_ylabel('')\n",
    "axes[1].set_ylabel('')\n",
    "axes[0].set_xlabel('')\n",
    "axes[1].set_xlabel('')\n",
    "axes[2].set_ylabel('')\n",
    "axes[2].set_xlabel('D0, mkm', fontsize=24)\n",
    "axes[0].set_xlim(0, 1200) \n",
    "axes[1].set_xlim(0, 1200)\n",
    "axes[2].set_xlim(0, 1200)\n",
    "plt.tight_layout()\n",
    "plt.savefig('hists.png')"
   ]
  },
  {
   "cell_type": "code",
   "execution_count": null,
   "id": "afc51635",
   "metadata": {},
   "outputs": [],
   "source": []
  }
 ],
 "metadata": {
  "kernelspec": {
   "display_name": "Python 3 (ipykernel)",
   "language": "python",
   "name": "python3"
  },
  "language_info": {
   "codemirror_mode": {
    "name": "ipython",
    "version": 3
   },
   "file_extension": ".py",
   "mimetype": "text/x-python",
   "name": "python",
   "nbconvert_exporter": "python",
   "pygments_lexer": "ipython3",
   "version": "3.11.5"
  }
 },
 "nbformat": 4,
 "nbformat_minor": 5
}
