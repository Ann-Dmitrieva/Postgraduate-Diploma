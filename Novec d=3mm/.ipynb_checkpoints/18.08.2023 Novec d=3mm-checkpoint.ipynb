{
 "cells": [
  {
   "cell_type": "code",
   "execution_count": 1,
   "id": "5fa14f63",
   "metadata": {},
   "outputs": [],
   "source": [
    "import math\n",
    "import matplotlib.pyplot as plt\n",
    "import numpy as np\n",
    "%matplotlib inline\n",
    "import pandas as pd\n",
    "from scipy.optimize import curve_fit\n",
    "from sklearn.metrics import r2_score"
   ]
  },
  {
   "cell_type": "markdown",
   "id": "fa5b958c",
   "metadata": {},
   "source": [
    "Теплофизические свойства"
   ]
  },
  {
   "cell_type": "code",
   "execution_count": 2,
   "id": "ccfe1392",
   "metadata": {},
   "outputs": [
    {
     "data": {
      "text/plain": [
       "0.0009873488285205923"
      ]
     },
     "execution_count": 2,
     "metadata": {},
     "output_type": "execute_result"
    }
   ],
   "source": [
    "T = 59.4 #Температура Новека при сборе статистических данных\n",
    "Cp = 2 * T + 1133 #Дж/кг*К - вода\n",
    "r = 125000 #Дж/кг\n",
    "ρ_w = -2.692 * T + 1582 #кг/м3- novec\n",
    "ρ_v = 0.0034 * (T ** 2) - 0.103 * T + 2.333 #кг/м3 - пар\n",
    "η = 0.0003 # Н*c/м2 - динамическая \n",
    "λ = 0.06\n",
    "g = 9.81\n",
    "ν = η / ρ_w #м2/с - кинематическая\n",
    "σ = 0.0136 #Н/м - поверхностное натяжение\n",
    "\n",
    "ΔT = 5.38\n",
    "math.sqrt(σ / (g * ρ_w))"
   ]
  },
  {
   "cell_type": "code",
   "execution_count": 3,
   "id": "51b0e22a",
   "metadata": {},
   "outputs": [
    {
     "data": {
      "text/plain": [
       "1.0474911769695553e-05"
      ]
     },
     "execution_count": 3,
     "metadata": {},
     "output_type": "execute_result"
    }
   ],
   "source": [
    "Ja = (Cp * ΔT * ρ_w) / (r * ρ_v)\n",
    "Ja0 = (Cp * ρ_w) / (r * ρ_v)\n",
    "Pr = (η * Cp) / λ\n",
    "Ar = (g / (ν ** 2)) * ((σ / (g * ρ_w)) ** (3 / 2))\n",
    "K = ((Ja / Pr) ** 2) / Ar\n",
    "K"
   ]
  },
  {
   "cell_type": "markdown",
   "id": "68fcf4d7",
   "metadata": {},
   "source": [
    "Обработка экспериментальных данных"
   ]
  },
  {
   "cell_type": "code",
   "execution_count": 5,
   "id": "ad4decaf",
   "metadata": {},
   "outputs": [
    {
     "data": {
      "text/html": [
       "<div>\n",
       "<style scoped>\n",
       "    .dataframe tbody tr th:only-of-type {\n",
       "        vertical-align: middle;\n",
       "    }\n",
       "\n",
       "    .dataframe tbody tr th {\n",
       "        vertical-align: top;\n",
       "    }\n",
       "\n",
       "    .dataframe thead th {\n",
       "        text-align: right;\n",
       "    }\n",
       "</style>\n",
       "<table border=\"1\" class=\"dataframe\">\n",
       "  <thead>\n",
       "    <tr style=\"text-align: right;\">\n",
       "      <th></th>\n",
       "      <th>Замер</th>\n",
       "      <th>D mean, mkm</th>\n",
       "      <th>Напряжение, В</th>\n",
       "      <th>Сила тока, А</th>\n",
       "      <th>Температура, °С</th>\n",
       "      <th>Мощность, Вт</th>\n",
       "      <th>Плотность</th>\n",
       "    </tr>\n",
       "  </thead>\n",
       "  <tbody>\n",
       "    <tr>\n",
       "      <th>0</th>\n",
       "      <td>regstat1</td>\n",
       "      <td>389</td>\n",
       "      <td>1,523</td>\n",
       "      <td>14,4</td>\n",
       "      <td>NaN</td>\n",
       "      <td>21,9312</td>\n",
       "      <td>7760,509554</td>\n",
       "    </tr>\n",
       "    <tr>\n",
       "      <th>1</th>\n",
       "      <td>regstat2</td>\n",
       "      <td>478</td>\n",
       "      <td>1,95</td>\n",
       "      <td>23</td>\n",
       "      <td>NaN</td>\n",
       "      <td>44,85</td>\n",
       "      <td>15870,48832</td>\n",
       "    </tr>\n",
       "    <tr>\n",
       "      <th>2</th>\n",
       "      <td>regstat3</td>\n",
       "      <td>560</td>\n",
       "      <td>2,555</td>\n",
       "      <td>37</td>\n",
       "      <td>NaN</td>\n",
       "      <td>94,535</td>\n",
       "      <td>33451,87544</td>\n",
       "    </tr>\n",
       "    <tr>\n",
       "      <th>3</th>\n",
       "      <td>regstat4</td>\n",
       "      <td>1002</td>\n",
       "      <td>3</td>\n",
       "      <td>54</td>\n",
       "      <td>NaN</td>\n",
       "      <td>162</td>\n",
       "      <td>57324,84076</td>\n",
       "    </tr>\n",
       "    <tr>\n",
       "      <th>4</th>\n",
       "      <td>regstat5</td>\n",
       "      <td>1170</td>\n",
       "      <td>3,49</td>\n",
       "      <td>69</td>\n",
       "      <td>NaN</td>\n",
       "      <td>240,81</td>\n",
       "      <td>85212,31423</td>\n",
       "    </tr>\n",
       "    <tr>\n",
       "      <th>5</th>\n",
       "      <td>regstat6</td>\n",
       "      <td>542</td>\n",
       "      <td>2,24</td>\n",
       "      <td>23,3</td>\n",
       "      <td>NaN</td>\n",
       "      <td>52,192</td>\n",
       "      <td>18468,50672</td>\n",
       "    </tr>\n",
       "    <tr>\n",
       "      <th>6</th>\n",
       "      <td>regstat7</td>\n",
       "      <td>825</td>\n",
       "      <td>2,72</td>\n",
       "      <td>41</td>\n",
       "      <td>NaN</td>\n",
       "      <td>111,52</td>\n",
       "      <td>39462,1373</td>\n",
       "    </tr>\n",
       "    <tr>\n",
       "      <th>7</th>\n",
       "      <td>regstat8</td>\n",
       "      <td>1168</td>\n",
       "      <td>3,25</td>\n",
       "      <td>67,2</td>\n",
       "      <td>NaN</td>\n",
       "      <td>218,4</td>\n",
       "      <td>77282,37792</td>\n",
       "    </tr>\n",
       "    <tr>\n",
       "      <th>8</th>\n",
       "      <td>regstat9</td>\n",
       "      <td>647</td>\n",
       "      <td>2,267</td>\n",
       "      <td>32,6</td>\n",
       "      <td>NaN</td>\n",
       "      <td>73,9042</td>\n",
       "      <td>26151,52159</td>\n",
       "    </tr>\n",
       "    <tr>\n",
       "      <th>9</th>\n",
       "      <td>regstat10</td>\n",
       "      <td>822</td>\n",
       "      <td>2,54</td>\n",
       "      <td>41,3</td>\n",
       "      <td>NaN</td>\n",
       "      <td>104,902</td>\n",
       "      <td>37120,31139</td>\n",
       "    </tr>\n",
       "  </tbody>\n",
       "</table>\n",
       "</div>"
      ],
      "text/plain": [
       "       Замер  D mean, mkm Напряжение, В Сила тока, А  Температура, °С  \\\n",
       "0   regstat1          389         1,523         14,4              NaN   \n",
       "1   regstat2          478          1,95           23              NaN   \n",
       "2   regstat3          560         2,555           37              NaN   \n",
       "3   regstat4         1002             3           54              NaN   \n",
       "4   regstat5         1170          3,49           69              NaN   \n",
       "5   regstat6          542          2,24         23,3              NaN   \n",
       "6   regstat7          825          2,72           41              NaN   \n",
       "7   regstat8         1168          3,25         67,2              NaN   \n",
       "8   regstat9          647         2,267         32,6              NaN   \n",
       "9  regstat10          822          2,54         41,3              NaN   \n",
       "\n",
       "  Мощность, Вт    Плотность  \n",
       "0      21,9312  7760,509554  \n",
       "1        44,85  15870,48832  \n",
       "2       94,535  33451,87544  \n",
       "3          162  57324,84076  \n",
       "4       240,81  85212,31423  \n",
       "5       52,192  18468,50672  \n",
       "6       111,52   39462,1373  \n",
       "7        218,4  77282,37792  \n",
       "8      73,9042  26151,52159  \n",
       "9      104,902  37120,31139  "
      ]
     },
     "execution_count": 5,
     "metadata": {},
     "output_type": "execute_result"
    }
   ],
   "source": [
    "tests = pd.read_csv('experimental data.csv', sep=';')\n",
    "tests"
   ]
  },
  {
   "cell_type": "code",
   "execution_count": 6,
   "id": "7542aa94",
   "metadata": {},
   "outputs": [],
   "source": [
    "tests = tests.set_index('Замер')\n",
    "tests = tests.replace(',', '.', regex=True)\n",
    "tests = tests.astype(float)"
   ]
  },
  {
   "cell_type": "code",
   "execution_count": 10,
   "id": "9fa2a1d3",
   "metadata": {},
   "outputs": [],
   "source": [
    "tests = tests.drop(columns='Температура, °С')"
   ]
  },
  {
   "cell_type": "code",
   "execution_count": 11,
   "id": "fc81b7fb",
   "metadata": {},
   "outputs": [],
   "source": [
    "tests.columns = ['D mean, mkm', 'U, V', 'I, A', 'P, W', 'q, W/m2']\n",
    "tests['ΔT'] = (tests['q, W/m2'] ** 0.3) / 3"
   ]
  },
  {
   "cell_type": "code",
   "execution_count": 14,
   "id": "8eb3df89",
   "metadata": {},
   "outputs": [],
   "source": [
    "tests = tests.rename(columns={'D mean, mkm' : 'D0, mkm'})"
   ]
  },
  {
   "cell_type": "code",
   "execution_count": 24,
   "id": "79f23bf3",
   "metadata": {},
   "outputs": [],
   "source": [
    "tests = tests.drop(index=['regstat5', 'regstat8', 'regstat4', 'regstat7', 'regstat10'])"
   ]
  },
  {
   "cell_type": "code",
   "execution_count": 26,
   "id": "aaefc377",
   "metadata": {},
   "outputs": [
    {
     "data": {
      "text/plain": [
       "(4.0, 8.0, 200.0, 1400.0)"
      ]
     },
     "execution_count": 26,
     "metadata": {},
     "output_type": "execute_result"
    },
    {
     "data": {
      "image/png": "[encoded data removed]",
      "text/plain": [
       "<Figure size 640x480 with 1 Axes>"
      ]
     },
     "metadata": {},
     "output_type": "display_data"
    }
   ],
   "source": [
    "x = np.linspace(2, 11, 5)\n",
    "graph, ax = plt.subplots()\n",
    "ax.errorbar(tests['ΔT'], tests['D0, mkm'], yerr=70, fmt='o', capsize=3, markersize=2)\n",
    "ax.plot(x, 0.304 * 1000000 * np.sqrt(1 + 100000 * (((((Cp * x * ρ_w) / (r * ρ_v)) / Pr) ** 2) / Ar)) * math.sqrt(σ / (g * ρ_w)))\n",
    "ax.set_xlabel('ΔT')\n",
    "ax.set_ylabel('D0, mkm')\n",
    "ax.grid()\n",
    "ax.axis([4, 8, 200, 1400])"
   ]
  },
  {
   "cell_type": "code",
   "execution_count": 29,
   "id": "f987c2a6",
   "metadata": {},
   "outputs": [
    {
     "data": {
      "text/plain": [
       "-1.9030328375262608"
      ]
     },
     "execution_count": 29,
     "metadata": {},
     "output_type": "execute_result"
    }
   ],
   "source": [
    "def func(x, a):\n",
    "    return a * 1000000 * np.sqrt(1 + 100000 * (((((Cp * x * ρ_w) / (r * ρ_v)) / Pr) ** 2) / Ar)) * math.sqrt(σ / (g * ρ_w))\n",
    "a_opt = 0.25\n",
    "D0_fit = func(tests['ΔT'], a_opt)\n",
    "r2 = r2_score(tests['D0, mkm'], D0_fit)\n",
    "r2"
   ]
  },
  {
   "cell_type": "code",
   "execution_count": null,
   "id": "f918ced6",
   "metadata": {},
   "outputs": [],
   "source": []
  }
 ],
 "metadata": {
  "kernelspec": {
   "display_name": "Python 3 (ipykernel)",
   "language": "python",
   "name": "python3"
  },
  "language_info": {
   "codemirror_mode": {
    "name": "ipython",
    "version": 3
   },
   "file_extension": ".py",
   "mimetype": "text/x-python",
   "name": "python",
   "nbconvert_exporter": "python",
   "pygments_lexer": "ipython3",
   "version": "3.11.5"
  }
 },
 "nbformat": 4,
 "nbformat_minor": 5
}
