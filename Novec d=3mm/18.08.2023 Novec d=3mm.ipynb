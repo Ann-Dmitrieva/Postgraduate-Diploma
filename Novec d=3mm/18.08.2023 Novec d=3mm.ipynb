{
 "cells": [
  {
   "cell_type": "code",
   "execution_count": 2,
   "id": "945b43db",
   "metadata": {},
   "outputs": [],
   "source": [
    "import math\n",
    "import matplotlib.pyplot as plt\n",
    "import numpy as np\n",
    "%matplotlib inline\n",
    "import pandas as pd\n",
    "from scipy.optimize import curve_fit\n",
    "from sklearn.metrics import r2_score"
   ]
  },
  {
   "cell_type": "markdown",
   "id": "c3acf5e5",
   "metadata": {},
   "source": [
    "Теплофизические свойства"
   ]
  },
  {
   "cell_type": "code",
   "execution_count": 3,
   "id": "b8cdb156",
   "metadata": {},
   "outputs": [],
   "source": [
    "T = 59.4 #Температура Новека при сборе статистических данных\n",
    "Cp = 2 * T + 1133 #Дж/кг*К - вода\n",
    "r = 125000 #Дж/кг\n",
    "ρ_w = -2.692 * T + 1582 #кг/м3- novec\n",
    "ρ_v = 0.0034 * (T ** 2) - 0.103 * T + 2.333 #кг/м3 - пар\n",
    "η = 0.0003 # Н*c/м2 - динамическая \n",
    "λ = 0.06\n",
    "g = 9.81\n",
    "ν = η / ρ_w #м2/с - кинематическая\n",
    "σ = 0.0136 #Н/м - поверхностное натяжение\n",
    "ΔT = 5"
   ]
  },
  {
   "cell_type": "code",
   "execution_count": 4,
   "id": "407c3b52",
   "metadata": {},
   "outputs": [
    {
     "data": {
      "text/plain": [
       "212175.72005334112"
      ]
     },
     "execution_count": 4,
     "metadata": {},
     "output_type": "execute_result"
    }
   ],
   "source": [
    "Ja = (Cp * ΔT * ρ_w) / (r * ρ_v)\n",
    "Ja0 = (Cp * ρ_w) / (r * ρ_v)\n",
    "Pr = (η * Cp) / λ\n",
    "Ar = (g / (ν ** 2)) * ((σ / (g * ρ_w)) ** (3 / 2))\n",
    "K = ((Ja / Pr) ** 2) / Ar\n",
    "Ar"
   ]
  },
  {
   "cell_type": "markdown",
   "id": "836fea06",
   "metadata": {},
   "source": [
    "Обработка экспериментальных данных"
   ]
  },
  {
   "cell_type": "code",
   "execution_count": 5,
   "id": "6f9ebf07",
   "metadata": {},
   "outputs": [
    {
     "data": {
      "text/html": [
       "<div>\n",
       "<style scoped>\n",
       "    .dataframe tbody tr th:only-of-type {\n",
       "        vertical-align: middle;\n",
       "    }\n",
       "\n",
       "    .dataframe tbody tr th {\n",
       "        vertical-align: top;\n",
       "    }\n",
       "\n",
       "    .dataframe thead th {\n",
       "        text-align: right;\n",
       "    }\n",
       "</style>\n",
       "<table border=\"1\" class=\"dataframe\">\n",
       "  <thead>\n",
       "    <tr style=\"text-align: right;\">\n",
       "      <th></th>\n",
       "      <th>Замер</th>\n",
       "      <th>D mean, mkm</th>\n",
       "      <th>Напряжение, В</th>\n",
       "      <th>Сила тока, А</th>\n",
       "      <th>Температура, °С</th>\n",
       "      <th>Мощность, Вт</th>\n",
       "      <th>Плотность</th>\n",
       "    </tr>\n",
       "  </thead>\n",
       "  <tbody>\n",
       "    <tr>\n",
       "      <th>0</th>\n",
       "      <td>regstat1</td>\n",
       "      <td>389</td>\n",
       "      <td>1,523</td>\n",
       "      <td>14,4</td>\n",
       "      <td>NaN</td>\n",
       "      <td>21,9312</td>\n",
       "      <td>7760,509554</td>\n",
       "    </tr>\n",
       "    <tr>\n",
       "      <th>1</th>\n",
       "      <td>regstat2</td>\n",
       "      <td>478</td>\n",
       "      <td>1,95</td>\n",
       "      <td>23</td>\n",
       "      <td>NaN</td>\n",
       "      <td>44,85</td>\n",
       "      <td>15870,48832</td>\n",
       "    </tr>\n",
       "    <tr>\n",
       "      <th>2</th>\n",
       "      <td>regstat3</td>\n",
       "      <td>560</td>\n",
       "      <td>2,555</td>\n",
       "      <td>37</td>\n",
       "      <td>NaN</td>\n",
       "      <td>94,535</td>\n",
       "      <td>33451,87544</td>\n",
       "    </tr>\n",
       "    <tr>\n",
       "      <th>3</th>\n",
       "      <td>regstat4</td>\n",
       "      <td>1002</td>\n",
       "      <td>3</td>\n",
       "      <td>54</td>\n",
       "      <td>NaN</td>\n",
       "      <td>162</td>\n",
       "      <td>57324,84076</td>\n",
       "    </tr>\n",
       "    <tr>\n",
       "      <th>4</th>\n",
       "      <td>regstat5</td>\n",
       "      <td>1170</td>\n",
       "      <td>3,49</td>\n",
       "      <td>69</td>\n",
       "      <td>NaN</td>\n",
       "      <td>240,81</td>\n",
       "      <td>85212,31423</td>\n",
       "    </tr>\n",
       "    <tr>\n",
       "      <th>5</th>\n",
       "      <td>regstat6</td>\n",
       "      <td>542</td>\n",
       "      <td>2,24</td>\n",
       "      <td>23,3</td>\n",
       "      <td>NaN</td>\n",
       "      <td>52,192</td>\n",
       "      <td>18468,50672</td>\n",
       "    </tr>\n",
       "    <tr>\n",
       "      <th>6</th>\n",
       "      <td>regstat7</td>\n",
       "      <td>825</td>\n",
       "      <td>2,72</td>\n",
       "      <td>41</td>\n",
       "      <td>NaN</td>\n",
       "      <td>111,52</td>\n",
       "      <td>39462,1373</td>\n",
       "    </tr>\n",
       "    <tr>\n",
       "      <th>7</th>\n",
       "      <td>regstat8</td>\n",
       "      <td>1168</td>\n",
       "      <td>3,25</td>\n",
       "      <td>67,2</td>\n",
       "      <td>NaN</td>\n",
       "      <td>218,4</td>\n",
       "      <td>77282,37792</td>\n",
       "    </tr>\n",
       "    <tr>\n",
       "      <th>8</th>\n",
       "      <td>regstat9</td>\n",
       "      <td>647</td>\n",
       "      <td>2,267</td>\n",
       "      <td>32,6</td>\n",
       "      <td>NaN</td>\n",
       "      <td>73,9042</td>\n",
       "      <td>26151,52159</td>\n",
       "    </tr>\n",
       "    <tr>\n",
       "      <th>9</th>\n",
       "      <td>regstat10</td>\n",
       "      <td>822</td>\n",
       "      <td>2,54</td>\n",
       "      <td>41,3</td>\n",
       "      <td>NaN</td>\n",
       "      <td>104,902</td>\n",
       "      <td>37120,31139</td>\n",
       "    </tr>\n",
       "  </tbody>\n",
       "</table>\n",
       "</div>"
      ],
      "text/plain": [
       "       Замер  D mean, mkm Напряжение, В Сила тока, А  Температура, °С  \\\n",
       "0   regstat1          389         1,523         14,4              NaN   \n",
       "1   regstat2          478          1,95           23              NaN   \n",
       "2   regstat3          560         2,555           37              NaN   \n",
       "3   regstat4         1002             3           54              NaN   \n",
       "4   regstat5         1170          3,49           69              NaN   \n",
       "5   regstat6          542          2,24         23,3              NaN   \n",
       "6   regstat7          825          2,72           41              NaN   \n",
       "7   regstat8         1168          3,25         67,2              NaN   \n",
       "8   regstat9          647         2,267         32,6              NaN   \n",
       "9  regstat10          822          2,54         41,3              NaN   \n",
       "\n",
       "  Мощность, Вт    Плотность  \n",
       "0      21,9312  7760,509554  \n",
       "1        44,85  15870,48832  \n",
       "2       94,535  33451,87544  \n",
       "3          162  57324,84076  \n",
       "4       240,81  85212,31423  \n",
       "5       52,192  18468,50672  \n",
       "6       111,52   39462,1373  \n",
       "7        218,4  77282,37792  \n",
       "8      73,9042  26151,52159  \n",
       "9      104,902  37120,31139  "
      ]
     },
     "execution_count": 5,
     "metadata": {},
     "output_type": "execute_result"
    }
   ],
   "source": [
    "tests = pd.read_csv('experimental data.csv', sep=';')\n",
    "tests"
   ]
  },
  {
   "cell_type": "code",
   "execution_count": 6,
   "id": "dd3c1238",
   "metadata": {},
   "outputs": [],
   "source": [
    "tests = tests.set_index('Замер')\n",
    "tests = tests.replace(',', '.', regex=True)\n",
    "tests = tests.astype(float)"
   ]
  },
  {
   "cell_type": "code",
   "execution_count": 7,
   "id": "1254025e",
   "metadata": {},
   "outputs": [],
   "source": [
    "tests = tests.drop(columns='Температура, °С')"
   ]
  },
  {
   "cell_type": "code",
   "execution_count": 8,
   "id": "19f35989",
   "metadata": {},
   "outputs": [],
   "source": [
    "tests.columns = ['D mean, mkm', 'U, V', 'I, A', 'P, W', 'q, W/m2']\n",
    "tests['ΔT'] = (tests['q, W/m2'] ** 0.3) / 3"
   ]
  },
  {
   "cell_type": "code",
   "execution_count": 9,
   "id": "59fb38af",
   "metadata": {},
   "outputs": [],
   "source": [
    "tests = tests.rename(columns={'D mean, mkm' : 'D0, mkm'})"
   ]
  },
  {
   "cell_type": "code",
   "execution_count": 10,
   "id": "2f8ffd04",
   "metadata": {},
   "outputs": [],
   "source": [
    "tests = tests.drop(index=['regstat5', 'regstat8', 'regstat4', 'regstat7', 'regstat10'])"
   ]
  },
  {
   "cell_type": "code",
   "execution_count": 11,
   "id": "654df890",
   "metadata": {
    "scrolled": false
   },
   "outputs": [
    {
     "data": {
      "text/plain": [
       "(4.0, 8.0, 200.0, 800.0)"
      ]
     },
     "execution_count": 11,
     "metadata": {},
     "output_type": "execute_result"
    },
    {
     "data": {
      "image/png": "[encoded data removed]",
      "text/plain": [
       "<Figure size 640x480 with 1 Axes>"
      ]
     },
     "metadata": {},
     "output_type": "display_data"
    }
   ],
   "source": [
    "x = np.linspace(2, 11, 5)\n",
    "graph, ax = plt.subplots()\n",
    "ax.errorbar(tests['ΔT'], tests['D0, mkm'], yerr=70, fmt='o', capsize=3, markersize=2)\n",
    "ax.plot(x, 0.25 * 1000000 * np.sqrt(1 + 100000 * (((((Cp * x * ρ_w) / (r * ρ_v)) / Pr) ** 2) / Ar)) * math.sqrt(σ / (g * ρ_w)))\n",
    "ax.set_xlabel('ΔT')\n",
    "ax.set_ylabel('D0, mkm')\n",
    "ax.grid()\n",
    "ax.axis([4, 8, 200, 800])"
   ]
  },
  {
   "cell_type": "code",
   "execution_count": 40,
   "id": "ddf3c4da",
   "metadata": {},
   "outputs": [],
   "source": [
    "tests.to_excel('output1.xlsx')"
   ]
  },
  {
   "cell_type": "code",
   "execution_count": 12,
   "id": "09b9d7de",
   "metadata": {},
   "outputs": [
    {
     "data": {
      "text/plain": [
       "Замер\n",
       "regstat1    337.320535\n",
       "regstat2    376.990231\n",
       "regstat3    433.511758\n",
       "regstat6    387.109231\n",
       "regstat9    412.905933\n",
       "Name: ΔT, dtype: float64"
      ]
     },
     "execution_count": 12,
     "metadata": {},
     "output_type": "execute_result"
    }
   ],
   "source": [
    "def func(x, a):\n",
    "    return a * 1000000 * np.sqrt(1 + 100000 * (((((Cp * x * ρ_w) / (r * ρ_v)) / Pr) ** 2) / Ar)) * math.sqrt(σ / (g * ρ_w))\n",
    "a_opt = 0.25\n",
    "D0_fit = func(tests['ΔT'], a_opt)\n",
    "r2 = r2_score(tests['D0, mkm'], D0_fit)\n",
    "D0_fit"
   ]
  },
  {
   "cell_type": "code",
   "execution_count": 13,
   "id": "8a8d6a22",
   "metadata": {},
   "outputs": [
    {
     "data": {
      "text/html": [
       "<div>\n",
       "<style scoped>\n",
       "    .dataframe tbody tr th:only-of-type {\n",
       "        vertical-align: middle;\n",
       "    }\n",
       "\n",
       "    .dataframe tbody tr th {\n",
       "        vertical-align: top;\n",
       "    }\n",
       "\n",
       "    .dataframe thead th {\n",
       "        text-align: right;\n",
       "    }\n",
       "</style>\n",
       "<table border=\"1\" class=\"dataframe\">\n",
       "  <thead>\n",
       "    <tr style=\"text-align: right;\">\n",
       "      <th></th>\n",
       "      <th>Замер</th>\n",
       "      <th>D mean, mkm</th>\n",
       "      <th>Напряжение, В</th>\n",
       "      <th>Сила тока, А</th>\n",
       "      <th>Температура, °С</th>\n",
       "      <th>Мощность, Вт</th>\n",
       "      <th>Плотность</th>\n",
       "    </tr>\n",
       "  </thead>\n",
       "  <tbody>\n",
       "    <tr>\n",
       "      <th>0</th>\n",
       "      <td>regstat1</td>\n",
       "      <td>389</td>\n",
       "      <td>1,523</td>\n",
       "      <td>14,4</td>\n",
       "      <td>NaN</td>\n",
       "      <td>21,9312</td>\n",
       "      <td>7760,509554</td>\n",
       "    </tr>\n",
       "    <tr>\n",
       "      <th>1</th>\n",
       "      <td>regstat2</td>\n",
       "      <td>478</td>\n",
       "      <td>1,95</td>\n",
       "      <td>23</td>\n",
       "      <td>NaN</td>\n",
       "      <td>44,85</td>\n",
       "      <td>15870,48832</td>\n",
       "    </tr>\n",
       "    <tr>\n",
       "      <th>2</th>\n",
       "      <td>regstat3</td>\n",
       "      <td>560</td>\n",
       "      <td>2,555</td>\n",
       "      <td>37</td>\n",
       "      <td>NaN</td>\n",
       "      <td>94,535</td>\n",
       "      <td>33451,87544</td>\n",
       "    </tr>\n",
       "    <tr>\n",
       "      <th>3</th>\n",
       "      <td>regstat4</td>\n",
       "      <td>1002</td>\n",
       "      <td>3</td>\n",
       "      <td>54</td>\n",
       "      <td>NaN</td>\n",
       "      <td>162</td>\n",
       "      <td>57324,84076</td>\n",
       "    </tr>\n",
       "    <tr>\n",
       "      <th>4</th>\n",
       "      <td>regstat5</td>\n",
       "      <td>1170</td>\n",
       "      <td>3,49</td>\n",
       "      <td>69</td>\n",
       "      <td>NaN</td>\n",
       "      <td>240,81</td>\n",
       "      <td>85212,31423</td>\n",
       "    </tr>\n",
       "    <tr>\n",
       "      <th>5</th>\n",
       "      <td>regstat6</td>\n",
       "      <td>542</td>\n",
       "      <td>2,24</td>\n",
       "      <td>23,3</td>\n",
       "      <td>NaN</td>\n",
       "      <td>52,192</td>\n",
       "      <td>18468,50672</td>\n",
       "    </tr>\n",
       "    <tr>\n",
       "      <th>6</th>\n",
       "      <td>regstat7</td>\n",
       "      <td>825</td>\n",
       "      <td>2,72</td>\n",
       "      <td>41</td>\n",
       "      <td>NaN</td>\n",
       "      <td>111,52</td>\n",
       "      <td>39462,1373</td>\n",
       "    </tr>\n",
       "    <tr>\n",
       "      <th>7</th>\n",
       "      <td>regstat8</td>\n",
       "      <td>1168</td>\n",
       "      <td>3,25</td>\n",
       "      <td>67,2</td>\n",
       "      <td>NaN</td>\n",
       "      <td>218,4</td>\n",
       "      <td>77282,37792</td>\n",
       "    </tr>\n",
       "    <tr>\n",
       "      <th>8</th>\n",
       "      <td>regstat9</td>\n",
       "      <td>647</td>\n",
       "      <td>2,267</td>\n",
       "      <td>32,6</td>\n",
       "      <td>NaN</td>\n",
       "      <td>73,9042</td>\n",
       "      <td>26151,52159</td>\n",
       "    </tr>\n",
       "    <tr>\n",
       "      <th>9</th>\n",
       "      <td>regstat10</td>\n",
       "      <td>822</td>\n",
       "      <td>2,54</td>\n",
       "      <td>41,3</td>\n",
       "      <td>NaN</td>\n",
       "      <td>104,902</td>\n",
       "      <td>37120,31139</td>\n",
       "    </tr>\n",
       "  </tbody>\n",
       "</table>\n",
       "</div>"
      ],
      "text/plain": [
       "       Замер  D mean, mkm Напряжение, В Сила тока, А  Температура, °С  \\\n",
       "0   regstat1          389         1,523         14,4              NaN   \n",
       "1   regstat2          478          1,95           23              NaN   \n",
       "2   regstat3          560         2,555           37              NaN   \n",
       "3   regstat4         1002             3           54              NaN   \n",
       "4   regstat5         1170          3,49           69              NaN   \n",
       "5   regstat6          542          2,24         23,3              NaN   \n",
       "6   regstat7          825          2,72           41              NaN   \n",
       "7   regstat8         1168          3,25         67,2              NaN   \n",
       "8   regstat9          647         2,267         32,6              NaN   \n",
       "9  regstat10          822          2,54         41,3              NaN   \n",
       "\n",
       "  Мощность, Вт    Плотность  \n",
       "0      21,9312  7760,509554  \n",
       "1        44,85  15870,48832  \n",
       "2       94,535  33451,87544  \n",
       "3          162  57324,84076  \n",
       "4       240,81  85212,31423  \n",
       "5       52,192  18468,50672  \n",
       "6       111,52   39462,1373  \n",
       "7        218,4  77282,37792  \n",
       "8      73,9042  26151,52159  \n",
       "9      104,902  37120,31139  "
      ]
     },
     "execution_count": 13,
     "metadata": {},
     "output_type": "execute_result"
    }
   ],
   "source": [
    "tests0 = pd.read_csv('experimental data.csv', sep=';')\n",
    "tests0"
   ]
  },
  {
   "cell_type": "code",
   "execution_count": 14,
   "id": "91a659a1",
   "metadata": {},
   "outputs": [],
   "source": [
    "tests0 = tests0.set_index('Замер')\n",
    "tests0 = tests0.replace(',', '.', regex=True)\n",
    "tests0 = tests0.astype(float)\n",
    "tests0 = tests0.drop(columns='Температура, °С')\n",
    "tests0.columns = ['D0, mkm', 'U, V', 'I, A', 'P, W', 'q, W/m2']\n",
    "tests0['ΔT'] = (tests0['q, W/m2'] ** 0.3) / 3"
   ]
  },
  {
   "cell_type": "code",
   "execution_count": 16,
   "id": "22f82560",
   "metadata": {},
   "outputs": [
    {
     "data": {
      "text/html": [
       "<div>\n",
       "<style scoped>\n",
       "    .dataframe tbody tr th:only-of-type {\n",
       "        vertical-align: middle;\n",
       "    }\n",
       "\n",
       "    .dataframe tbody tr th {\n",
       "        vertical-align: top;\n",
       "    }\n",
       "\n",
       "    .dataframe thead th {\n",
       "        text-align: right;\n",
       "    }\n",
       "</style>\n",
       "<table border=\"1\" class=\"dataframe\">\n",
       "  <thead>\n",
       "    <tr style=\"text-align: right;\">\n",
       "      <th></th>\n",
       "      <th>D0, mkm</th>\n",
       "      <th>U, V</th>\n",
       "      <th>I, A</th>\n",
       "      <th>P, W</th>\n",
       "      <th>q, W/m2</th>\n",
       "      <th>ΔT</th>\n",
       "    </tr>\n",
       "    <tr>\n",
       "      <th>Замер</th>\n",
       "      <th></th>\n",
       "      <th></th>\n",
       "      <th></th>\n",
       "      <th></th>\n",
       "      <th></th>\n",
       "      <th></th>\n",
       "    </tr>\n",
       "  </thead>\n",
       "  <tbody>\n",
       "    <tr>\n",
       "      <th>regstat1</th>\n",
       "      <td>389.0</td>\n",
       "      <td>1.523</td>\n",
       "      <td>14.4</td>\n",
       "      <td>21.9312</td>\n",
       "      <td>7760.509554</td>\n",
       "      <td>4.896050</td>\n",
       "    </tr>\n",
       "    <tr>\n",
       "      <th>regstat2</th>\n",
       "      <td>478.0</td>\n",
       "      <td>1.950</td>\n",
       "      <td>23.0</td>\n",
       "      <td>44.8500</td>\n",
       "      <td>15870.488320</td>\n",
       "      <td>6.068143</td>\n",
       "    </tr>\n",
       "    <tr>\n",
       "      <th>regstat3</th>\n",
       "      <td>560.0</td>\n",
       "      <td>2.555</td>\n",
       "      <td>37.0</td>\n",
       "      <td>94.5350</td>\n",
       "      <td>33451.875440</td>\n",
       "      <td>7.589355</td>\n",
       "    </tr>\n",
       "    <tr>\n",
       "      <th>regstat4</th>\n",
       "      <td>1002.0</td>\n",
       "      <td>3.000</td>\n",
       "      <td>54.0</td>\n",
       "      <td>162.0000</td>\n",
       "      <td>57324.840760</td>\n",
       "      <td>8.920344</td>\n",
       "    </tr>\n",
       "    <tr>\n",
       "      <th>regstat5</th>\n",
       "      <td>1170.0</td>\n",
       "      <td>3.490</td>\n",
       "      <td>69.0</td>\n",
       "      <td>240.8100</td>\n",
       "      <td>85212.314230</td>\n",
       "      <td>10.046839</td>\n",
       "    </tr>\n",
       "    <tr>\n",
       "      <th>regstat6</th>\n",
       "      <td>542.0</td>\n",
       "      <td>2.240</td>\n",
       "      <td>23.3</td>\n",
       "      <td>52.1920</td>\n",
       "      <td>18468.506720</td>\n",
       "      <td>6.350505</td>\n",
       "    </tr>\n",
       "    <tr>\n",
       "      <th>regstat7</th>\n",
       "      <td>825.0</td>\n",
       "      <td>2.720</td>\n",
       "      <td>41.0</td>\n",
       "      <td>111.5200</td>\n",
       "      <td>39462.137300</td>\n",
       "      <td>7.975041</td>\n",
       "    </tr>\n",
       "    <tr>\n",
       "      <th>regstat8</th>\n",
       "      <td>1168.0</td>\n",
       "      <td>3.250</td>\n",
       "      <td>67.2</td>\n",
       "      <td>218.4000</td>\n",
       "      <td>77282.377920</td>\n",
       "      <td>9.756699</td>\n",
       "    </tr>\n",
       "    <tr>\n",
       "      <th>regstat9</th>\n",
       "      <td>647.0</td>\n",
       "      <td>2.267</td>\n",
       "      <td>32.6</td>\n",
       "      <td>73.9042</td>\n",
       "      <td>26151.521590</td>\n",
       "      <td>7.049005</td>\n",
       "    </tr>\n",
       "    <tr>\n",
       "      <th>regstat10</th>\n",
       "      <td>822.0</td>\n",
       "      <td>2.540</td>\n",
       "      <td>41.3</td>\n",
       "      <td>104.9020</td>\n",
       "      <td>37120.311390</td>\n",
       "      <td>7.830008</td>\n",
       "    </tr>\n",
       "  </tbody>\n",
       "</table>\n",
       "</div>"
      ],
      "text/plain": [
       "           D0, mkm   U, V  I, A      P, W       q, W/m2         ΔT\n",
       "Замер                                                             \n",
       "regstat1     389.0  1.523  14.4   21.9312   7760.509554   4.896050\n",
       "regstat2     478.0  1.950  23.0   44.8500  15870.488320   6.068143\n",
       "regstat3     560.0  2.555  37.0   94.5350  33451.875440   7.589355\n",
       "regstat4    1002.0  3.000  54.0  162.0000  57324.840760   8.920344\n",
       "regstat5    1170.0  3.490  69.0  240.8100  85212.314230  10.046839\n",
       "regstat6     542.0  2.240  23.3   52.1920  18468.506720   6.350505\n",
       "regstat7     825.0  2.720  41.0  111.5200  39462.137300   7.975041\n",
       "regstat8    1168.0  3.250  67.2  218.4000  77282.377920   9.756699\n",
       "regstat9     647.0  2.267  32.6   73.9042  26151.521590   7.049005\n",
       "regstat10    822.0  2.540  41.3  104.9020  37120.311390   7.830008"
      ]
     },
     "execution_count": 16,
     "metadata": {},
     "output_type": "execute_result"
    }
   ],
   "source": [
    "tests0"
   ]
  },
  {
   "cell_type": "code",
   "execution_count": 18,
   "id": "b65b93a8",
   "metadata": {},
   "outputs": [
    {
     "data": {
      "text/plain": [
       "(4.0, 11.0, 200.0, 1300.0)"
      ]
     },
     "execution_count": 18,
     "metadata": {},
     "output_type": "execute_result"
    },
    {
     "data": {
      "image/png": "[encoded data removed]",
      "text/plain": [
       "<Figure size 640x480 with 1 Axes>"
      ]
     },
     "metadata": {},
     "output_type": "display_data"
    }
   ],
   "source": [
    "x = np.linspace(2, 11, 5)\n",
    "graph, axes = plt.subplots()\n",
    "axes.errorbar(tests0['ΔT'], tests0['D0, mkm'], yerr=70, fmt='o', capsize=3, markersize=2)\n",
    "axes.plot(x, 0.446 * 1000000 * np.sqrt(1 + 100000 * (((((Cp * x * ρ_w) / (r * ρ_v)) / Pr) ** 2) / Ar)) * math.sqrt(σ / (g * ρ_w)))\n",
    "axes.set_xlabel('ΔT')\n",
    "axes.set_ylabel('D0, mkm')\n",
    "axes.grid()\n",
    "axes.axis([4, 11, 200, 1300])"
   ]
  },
  {
   "cell_type": "markdown",
   "id": "6f021d13",
   "metadata": {},
   "source": [
    "Подбор а:"
   ]
  },
  {
   "cell_type": "code",
   "execution_count": 17,
   "id": "f5303a50",
   "metadata": {},
   "outputs": [
    {
     "data": {
      "text/plain": [
       "(0.6042752148116375, array([0.4460613]))"
      ]
     },
     "execution_count": 17,
     "metadata": {},
     "output_type": "execute_result"
    }
   ],
   "source": [
    "def func(x, a):\n",
    "    return a * 1000000 * np.sqrt(1 + 100000 * (((((Cp * x * ρ_w) / (r * ρ_v)) / Pr) ** 2) / Ar)) * math.sqrt(σ / (g * ρ_w))\n",
    "popt, pcov = curve_fit(func, tests0['ΔT'], tests0['D0, mkm'])\n",
    "a_opt0 = popt\n",
    "D0_fit0 = func(tests0['ΔT'], *popt)\n",
    "r20 = r2_score(tests0['D0, mkm'], D0_fit0)\n",
    "r20, a_opt0"
   ]
  },
  {
   "cell_type": "code",
   "execution_count": null,
   "id": "45ce8162",
   "metadata": {},
   "outputs": [],
   "source": []
  }
 ],
 "metadata": {
  "kernelspec": {
   "display_name": "Python 3 (ipykernel)",
   "language": "python",
   "name": "python3"
  },
  "language_info": {
   "codemirror_mode": {
    "name": "ipython",
    "version": 3
   },
   "file_extension": ".py",
   "mimetype": "text/x-python",
   "name": "python",
   "nbconvert_exporter": "python",
   "pygments_lexer": "ipython3",
   "version": "3.11.5"
  }
 },
 "nbformat": 4,
 "nbformat_minor": 5
}
